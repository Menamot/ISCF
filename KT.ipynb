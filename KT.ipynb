{
 "cells": [
  {
   "cell_type": "code",
   "execution_count": 2,
   "outputs": [],
   "source": [
    "import numpy as np\n",
    "import pandas as pd\n",
    "from scipy.optimize import linprog"
   ],
   "metadata": {
    "collapsed": false,
    "ExecuteTime": {
     "end_time": "2023-11-28T11:34:20.675169200Z",
     "start_time": "2023-11-28T11:34:20.668164600Z"
    }
   },
   "id": "d0e64c6330335ae5"
  },
  {
   "cell_type": "code",
   "execution_count": 3,
   "outputs": [
    {
     "data": {
      "text/plain": "array([[ 0, 48, 65, 68, 68],\n       [48,  0, 22, 37, 88],\n       [65, 22,  0, 13, 59],\n       [68, 37, 13,  0, 89],\n       [68, 88, 59, 89,  0]])"
     },
     "execution_count": 3,
     "metadata": {},
     "output_type": "execute_result"
    }
   ],
   "source": [
    "num_cities = 5\n",
    "\n",
    "# Generate a symmetric distance matrix for TSP with random distances\n",
    "# Using the upper triangle and then adding its transpose to get the full matrix\n",
    "np.random.seed(0)  # Seed for reproducibility\n",
    "upper_triangle = np.random.randint(1, 100, size=(num_cities, num_cities))\n",
    "distance_matrix = np.triu(upper_triangle, k=1)  # Upper triangle without the diagonal\n",
    "distance_matrix += distance_matrix.T  # Make the matrix symmetric\n",
    "\n",
    "distance_matrix"
   ],
   "metadata": {
    "collapsed": false,
    "ExecuteTime": {
     "end_time": "2023-11-28T11:34:21.474127300Z",
     "start_time": "2023-11-28T11:34:21.466193300Z"
    }
   },
   "id": "cddae4e70532f126"
  },
  {
   "cell_type": "code",
   "execution_count": 6,
   "outputs": [
    {
     "data": {
      "text/plain": "256"
     },
     "execution_count": 6,
     "metadata": {},
     "output_type": "execute_result"
    }
   ],
   "source": [],
   "metadata": {
    "collapsed": false,
    "ExecuteTime": {
     "end_time": "2023-11-28T11:35:39.454153400Z",
     "start_time": "2023-11-28T11:35:39.450357900Z"
    }
   },
   "id": "490f7b4cbb28af52"
  },
  {
   "cell_type": "code",
   "execution_count": 4,
   "outputs": [
    {
     "name": "stdout",
     "output_type": "stream",
     "text": [
      "最佳路径: [4, 2, 3, 1, 0]\n",
      "路径长度: 225\n"
     ]
    }
   ],
   "source": [
    "import math\n",
    "import random\n",
    "\n",
    "def calculate_total_distance(route, distance_matrix):\n",
    "    total_dist = 0\n",
    "    for i in range(len(route)):\n",
    "        total_dist += distance_matrix[route[i-1]][route[i]]\n",
    "    return total_dist\n",
    "\n",
    "def swap_two_cities(route):\n",
    "    new_route = route.copy()\n",
    "    i, j = random.sample(range(len(route)), 2)\n",
    "    new_route[i], new_route[j] = new_route[j], new_route[i]\n",
    "    return new_route\n",
    "\n",
    "def simulated_annealing(distance_matrix, initial_temp=100000, cooling_rate=0.00003, stopping_temp=1):\n",
    "    current_temp = initial_temp\n",
    "    current_route = random.sample(range(len(distance_matrix)), len(distance_matrix))\n",
    "    current_distance = calculate_total_distance(current_route, distance_matrix)\n",
    "    \n",
    "    while current_temp > stopping_temp:\n",
    "        new_route = swap_two_cities(current_route)\n",
    "        new_distance = calculate_total_distance(new_route, distance_matrix)\n",
    "\n",
    "        if new_distance < current_distance or random.uniform(0, 1) < math.exp((current_distance - new_distance) / current_temp):\n",
    "            current_route = new_route\n",
    "            current_distance = new_distance\n",
    "\n",
    "        current_temp *= 1 - cooling_rate\n",
    "\n",
    "    return current_route, current_distance\n",
    "\n",
    "best_route, best_distance = simulated_annealing(distance_matrix)\n",
    "print(\"最佳路径:\", best_route)\n",
    "print(\"路径长度:\", best_distance)"
   ],
   "metadata": {
    "collapsed": false,
    "ExecuteTime": {
     "end_time": "2023-11-28T11:34:24.082190900Z",
     "start_time": "2023-11-28T11:34:22.637168700Z"
    }
   },
   "id": "4c7e58833e704254"
  },
  {
   "cell_type": "code",
   "execution_count": 8,
   "outputs": [
    {
     "name": "stdout",
     "output_type": "stream",
     "text": [
      "Objective value: 21.0\n",
      "LP relaxation solution: [ 0. -0.  1.  0.  1.  0. -0. -0.  0.  0.  0.  1.  0.  1.  0.  0.]\n"
     ]
    }
   ],
   "source": [
    "# 定义TSP问题的距离矩阵\n",
    "distance_matrix = np.array([\n",
    "    [np.inf, 2, 9, 10],\n",
    "    [1, np.inf, 6, 4],\n",
    "    [15, 7, np.inf, 8],\n",
    "    [6, 3, 12, np.inf]\n",
    "])\n",
    "big_number = 1e6\n",
    "distance_matrix[distance_matrix == np.inf] = big_number\n",
    "num_cities = distance_matrix.shape[0]\n",
    "\n",
    "# 定义线性规划问题的目标函数系数\n",
    "# 我们需要为每一对城市创建一个变量\n",
    "c = distance_matrix.flatten()\n",
    "\n",
    "# 定义初始约束 - 每个城市必须被离开一次和进入一次\n",
    "# 约束矩阵\n",
    "A_eq = np.zeros((2*num_cities, num_cities**2))\n",
    "for i in range(num_cities):\n",
    "    A_eq[i, i::num_cities] = 1  # 离开城市i的约束\n",
    "    A_eq[i + num_cities, num_cities*i:num_cities*(i+1)] = 1  # 进入城市i的约束\n",
    "\n",
    "# 约束值\n",
    "b_eq = np.ones(2*num_cities)\n",
    "\n",
    "# 变量界限，每个决策变量在0和1之间\n",
    "bounds = [(0, 1) for _ in range(num_cities**2)]\n",
    "\n",
    "# 解决初始线性规划问题\n",
    "res = linprog(c, A_eq=A_eq, b_eq=b_eq, bounds=bounds, method='highs')\n",
    "\n",
    "# 检查结果中是否有子循环，并添加约束来消除它们\n",
    "# 这里没有展示这一步，因为它需要复杂的逻辑来识别子循环\n",
    "# 并构建相应的约束来消除子循环\n",
    "\n",
    "# 输出结果\n",
    "print('Objective value:', res.fun)\n",
    "\n",
    "# 输出线性规划松弛解\n",
    "# 这通常不是TSP的有效解，但可以给出一个下界\n",
    "print('LP relaxation solution:', res.x)"
   ],
   "metadata": {
    "collapsed": false,
    "ExecuteTime": {
     "end_time": "2023-11-28T10:59:34.787298500Z",
     "start_time": "2023-11-28T10:59:34.779491600Z"
    }
   },
   "id": "33a1860792b06b45"
  },
  {
   "cell_type": "code",
   "execution_count": 10,
   "outputs": [
    {
     "data": {
      "text/plain": "array([[1., 0., 0., 0., 1., 0., 0., 0., 1., 0., 0., 0., 1., 0., 0., 0.],\n       [0., 1., 0., 0., 0., 1., 0., 0., 0., 1., 0., 0., 0., 1., 0., 0.],\n       [0., 0., 1., 0., 0., 0., 1., 0., 0., 0., 1., 0., 0., 0., 1., 0.],\n       [0., 0., 0., 1., 0., 0., 0., 1., 0., 0., 0., 1., 0., 0., 0., 1.],\n       [1., 1., 1., 1., 0., 0., 0., 0., 0., 0., 0., 0., 0., 0., 0., 0.],\n       [0., 0., 0., 0., 1., 1., 1., 1., 0., 0., 0., 0., 0., 0., 0., 0.],\n       [0., 0., 0., 0., 0., 0., 0., 0., 1., 1., 1., 1., 0., 0., 0., 0.],\n       [0., 0., 0., 0., 0., 0., 0., 0., 0., 0., 0., 0., 1., 1., 1., 1.]])"
     },
     "execution_count": 10,
     "metadata": {},
     "output_type": "execute_result"
    }
   ],
   "source": [
    "A_eq"
   ],
   "metadata": {
    "collapsed": false,
    "ExecuteTime": {
     "end_time": "2023-11-28T11:01:31.363221400Z",
     "start_time": "2023-11-28T11:01:31.355830300Z"
    }
   },
   "id": "4419b379598f8c97"
  },
  {
   "cell_type": "code",
   "execution_count": 7,
   "outputs": [
    {
     "ename": "KeyboardInterrupt",
     "evalue": "",
     "output_type": "error",
     "traceback": [
      "\u001B[1;31m---------------------------------------------------------------------------\u001B[0m",
      "\u001B[1;31mKeyboardInterrupt\u001B[0m                         Traceback (most recent call last)",
      "Cell \u001B[1;32mIn[7], line 72\u001B[0m\n\u001B[0;32m     70\u001B[0m solution_found \u001B[38;5;241m=\u001B[39m \u001B[38;5;28;01mFalse\u001B[39;00m\n\u001B[0;32m     71\u001B[0m \u001B[38;5;28;01mwhile\u001B[39;00m \u001B[38;5;129;01mnot\u001B[39;00m solution_found:\n\u001B[1;32m---> 72\u001B[0m     \u001B[43mproblem\u001B[49m\u001B[38;5;241;43m.\u001B[39;49m\u001B[43msolve\u001B[49m\u001B[43m(\u001B[49m\u001B[43m)\u001B[49m\n\u001B[0;32m     74\u001B[0m     \u001B[38;5;66;03m# 提取当前解\u001B[39;00m\n\u001B[0;32m     75\u001B[0m     solution \u001B[38;5;241m=\u001B[39m {(i, j): pulp\u001B[38;5;241m.\u001B[39mvalue(x[(i, j)]) \u001B[38;5;28;01mfor\u001B[39;00m i \u001B[38;5;129;01min\u001B[39;00m \u001B[38;5;28mrange\u001B[39m(num_cities) \u001B[38;5;28;01mfor\u001B[39;00m j \u001B[38;5;129;01min\u001B[39;00m \u001B[38;5;28mrange\u001B[39m(num_cities)}\n",
      "File \u001B[1;32mD:\\Programming\\Conda_envs\\ML\\Lib\\site-packages\\pulp\\pulp.py:1913\u001B[0m, in \u001B[0;36mLpProblem.solve\u001B[1;34m(self, solver, **kwargs)\u001B[0m\n\u001B[0;32m   1911\u001B[0m \u001B[38;5;66;03m# time it\u001B[39;00m\n\u001B[0;32m   1912\u001B[0m \u001B[38;5;28mself\u001B[39m\u001B[38;5;241m.\u001B[39mstartClock()\n\u001B[1;32m-> 1913\u001B[0m status \u001B[38;5;241m=\u001B[39m \u001B[43msolver\u001B[49m\u001B[38;5;241;43m.\u001B[39;49m\u001B[43mactualSolve\u001B[49m\u001B[43m(\u001B[49m\u001B[38;5;28;43mself\u001B[39;49m\u001B[43m,\u001B[49m\u001B[43m \u001B[49m\u001B[38;5;241;43m*\u001B[39;49m\u001B[38;5;241;43m*\u001B[39;49m\u001B[43mkwargs\u001B[49m\u001B[43m)\u001B[49m\n\u001B[0;32m   1914\u001B[0m \u001B[38;5;28mself\u001B[39m\u001B[38;5;241m.\u001B[39mstopClock()\n\u001B[0;32m   1915\u001B[0m \u001B[38;5;28mself\u001B[39m\u001B[38;5;241m.\u001B[39mrestoreObjective(wasNone, dummyVar)\n",
      "File \u001B[1;32mD:\\Programming\\Conda_envs\\ML\\Lib\\site-packages\\pulp\\apis\\coin_api.py:137\u001B[0m, in \u001B[0;36mCOIN_CMD.actualSolve\u001B[1;34m(self, lp, **kwargs)\u001B[0m\n\u001B[0;32m    135\u001B[0m \u001B[38;5;28;01mdef\u001B[39;00m \u001B[38;5;21mactualSolve\u001B[39m(\u001B[38;5;28mself\u001B[39m, lp, \u001B[38;5;241m*\u001B[39m\u001B[38;5;241m*\u001B[39mkwargs):\n\u001B[0;32m    136\u001B[0m \u001B[38;5;250m    \u001B[39m\u001B[38;5;124;03m\"\"\"Solve a well formulated lp problem\"\"\"\u001B[39;00m\n\u001B[1;32m--> 137\u001B[0m     \u001B[38;5;28;01mreturn\u001B[39;00m \u001B[38;5;28;43mself\u001B[39;49m\u001B[38;5;241;43m.\u001B[39;49m\u001B[43msolve_CBC\u001B[49m\u001B[43m(\u001B[49m\u001B[43mlp\u001B[49m\u001B[43m,\u001B[49m\u001B[43m \u001B[49m\u001B[38;5;241;43m*\u001B[39;49m\u001B[38;5;241;43m*\u001B[39;49m\u001B[43mkwargs\u001B[49m\u001B[43m)\u001B[49m\n",
      "File \u001B[1;32mD:\\Programming\\Conda_envs\\ML\\Lib\\site-packages\\pulp\\apis\\coin_api.py:153\u001B[0m, in \u001B[0;36mCOIN_CMD.solve_CBC\u001B[1;34m(self, lp, use_mps)\u001B[0m\n\u001B[0;32m    149\u001B[0m tmpLp, tmpMps, tmpSol, tmpMst \u001B[38;5;241m=\u001B[39m \u001B[38;5;28mself\u001B[39m\u001B[38;5;241m.\u001B[39mcreate_tmp_files(\n\u001B[0;32m    150\u001B[0m     lp\u001B[38;5;241m.\u001B[39mname, \u001B[38;5;124m\"\u001B[39m\u001B[38;5;124mlp\u001B[39m\u001B[38;5;124m\"\u001B[39m, \u001B[38;5;124m\"\u001B[39m\u001B[38;5;124mmps\u001B[39m\u001B[38;5;124m\"\u001B[39m, \u001B[38;5;124m\"\u001B[39m\u001B[38;5;124msol\u001B[39m\u001B[38;5;124m\"\u001B[39m, \u001B[38;5;124m\"\u001B[39m\u001B[38;5;124mmst\u001B[39m\u001B[38;5;124m\"\u001B[39m\n\u001B[0;32m    151\u001B[0m )\n\u001B[0;32m    152\u001B[0m \u001B[38;5;28;01mif\u001B[39;00m use_mps:\n\u001B[1;32m--> 153\u001B[0m     vs, variablesNames, constraintsNames, objectiveName \u001B[38;5;241m=\u001B[39m \u001B[43mlp\u001B[49m\u001B[38;5;241;43m.\u001B[39;49m\u001B[43mwriteMPS\u001B[49m\u001B[43m(\u001B[49m\n\u001B[0;32m    154\u001B[0m \u001B[43m        \u001B[49m\u001B[43mtmpMps\u001B[49m\u001B[43m,\u001B[49m\u001B[43m \u001B[49m\u001B[43mrename\u001B[49m\u001B[38;5;241;43m=\u001B[39;49m\u001B[38;5;241;43m1\u001B[39;49m\n\u001B[0;32m    155\u001B[0m \u001B[43m    \u001B[49m\u001B[43m)\u001B[49m\n\u001B[0;32m    156\u001B[0m     cmds \u001B[38;5;241m=\u001B[39m \u001B[38;5;124m\"\u001B[39m\u001B[38;5;124m \u001B[39m\u001B[38;5;124m\"\u001B[39m \u001B[38;5;241m+\u001B[39m tmpMps \u001B[38;5;241m+\u001B[39m \u001B[38;5;124m\"\u001B[39m\u001B[38;5;124m \u001B[39m\u001B[38;5;124m\"\u001B[39m\n\u001B[0;32m    157\u001B[0m     \u001B[38;5;28;01mif\u001B[39;00m lp\u001B[38;5;241m.\u001B[39msense \u001B[38;5;241m==\u001B[39m constants\u001B[38;5;241m.\u001B[39mLpMaximize:\n",
      "File \u001B[1;32mD:\\Programming\\Conda_envs\\ML\\Lib\\site-packages\\pulp\\pulp.py:1782\u001B[0m, in \u001B[0;36mLpProblem.writeMPS\u001B[1;34m(self, filename, mpsSense, rename, mip)\u001B[0m\n\u001B[0;32m   1770\u001B[0m \u001B[38;5;28;01mdef\u001B[39;00m \u001B[38;5;21mwriteMPS\u001B[39m(\u001B[38;5;28mself\u001B[39m, filename, mpsSense\u001B[38;5;241m=\u001B[39m\u001B[38;5;241m0\u001B[39m, rename\u001B[38;5;241m=\u001B[39m\u001B[38;5;241m0\u001B[39m, mip\u001B[38;5;241m=\u001B[39m\u001B[38;5;241m1\u001B[39m):\n\u001B[0;32m   1771\u001B[0m \u001B[38;5;250m    \u001B[39m\u001B[38;5;124;03m\"\"\"\u001B[39;00m\n\u001B[0;32m   1772\u001B[0m \u001B[38;5;124;03m    Writes an mps files from the problem information\u001B[39;00m\n\u001B[0;32m   1773\u001B[0m \n\u001B[1;32m   (...)\u001B[0m\n\u001B[0;32m   1780\u001B[0m \u001B[38;5;124;03m        - The file is created\u001B[39;00m\n\u001B[0;32m   1781\u001B[0m \u001B[38;5;124;03m    \"\"\"\u001B[39;00m\n\u001B[1;32m-> 1782\u001B[0m     \u001B[38;5;28;01mreturn\u001B[39;00m \u001B[43mmpslp\u001B[49m\u001B[38;5;241;43m.\u001B[39;49m\u001B[43mwriteMPS\u001B[49m\u001B[43m(\u001B[49m\u001B[38;5;28;43mself\u001B[39;49m\u001B[43m,\u001B[49m\u001B[43m \u001B[49m\u001B[43mfilename\u001B[49m\u001B[43m,\u001B[49m\u001B[43m \u001B[49m\u001B[43mmpsSense\u001B[49m\u001B[38;5;241;43m=\u001B[39;49m\u001B[43mmpsSense\u001B[49m\u001B[43m,\u001B[49m\u001B[43m \u001B[49m\u001B[43mrename\u001B[49m\u001B[38;5;241;43m=\u001B[39;49m\u001B[43mrename\u001B[49m\u001B[43m,\u001B[49m\u001B[43m \u001B[49m\u001B[43mmip\u001B[49m\u001B[38;5;241;43m=\u001B[39;49m\u001B[43mmip\u001B[49m\u001B[43m)\u001B[49m\n",
      "File \u001B[1;32mD:\\Programming\\Conda_envs\\ML\\Lib\\site-packages\\pulp\\mps_lp.py:236\u001B[0m, in \u001B[0;36mwriteMPS\u001B[1;34m(LpProblem, filename, mpsSense, rename, mip)\u001B[0m\n\u001B[0;32m    233\u001B[0m \u001B[38;5;28;01mfor\u001B[39;00m v \u001B[38;5;129;01min\u001B[39;00m vs:\n\u001B[0;32m    234\u001B[0m     name \u001B[38;5;241m=\u001B[39m varNames[v\u001B[38;5;241m.\u001B[39mname]\n\u001B[0;32m    235\u001B[0m     columns_lines\u001B[38;5;241m.\u001B[39mextend(\n\u001B[1;32m--> 236\u001B[0m         \u001B[43mwriteMPSColumnLines\u001B[49m\u001B[43m(\u001B[49m\u001B[43mcoefs\u001B[49m\u001B[43m[\u001B[49m\u001B[43mname\u001B[49m\u001B[43m]\u001B[49m\u001B[43m,\u001B[49m\u001B[43m \u001B[49m\u001B[43mv\u001B[49m\u001B[43m,\u001B[49m\u001B[43m \u001B[49m\u001B[43mmip\u001B[49m\u001B[43m,\u001B[49m\u001B[43m \u001B[49m\u001B[43mname\u001B[49m\u001B[43m,\u001B[49m\u001B[43m \u001B[49m\u001B[43mcobj\u001B[49m\u001B[43m,\u001B[49m\u001B[43m \u001B[49m\u001B[43mobjName\u001B[49m\u001B[43m)\u001B[49m\n\u001B[0;32m    237\u001B[0m     )\n\u001B[0;32m    239\u001B[0m \u001B[38;5;66;03m# right hand side\u001B[39;00m\n\u001B[0;32m    240\u001B[0m rhs_lines \u001B[38;5;241m=\u001B[39m [\n\u001B[0;32m    241\u001B[0m     \u001B[38;5;124m\"\u001B[39m\u001B[38;5;124m    RHS       \u001B[39m\u001B[38;5;132;01m%-8s\u001B[39;00m\u001B[38;5;124m  \u001B[39m\u001B[38;5;132;01m% .12e\u001B[39;00m\u001B[38;5;130;01m\\n\u001B[39;00m\u001B[38;5;124m\"\u001B[39m\n\u001B[0;32m    242\u001B[0m     \u001B[38;5;241m%\u001B[39m (constrNames[k], \u001B[38;5;241m-\u001B[39mc\u001B[38;5;241m.\u001B[39mconstant \u001B[38;5;28;01mif\u001B[39;00m c\u001B[38;5;241m.\u001B[39mconstant \u001B[38;5;241m!=\u001B[39m \u001B[38;5;241m0\u001B[39m \u001B[38;5;28;01melse\u001B[39;00m \u001B[38;5;241m0\u001B[39m)\n\u001B[0;32m    243\u001B[0m     \u001B[38;5;28;01mfor\u001B[39;00m k, c \u001B[38;5;129;01min\u001B[39;00m LpProblem\u001B[38;5;241m.\u001B[39mconstraints\u001B[38;5;241m.\u001B[39mitems()\n\u001B[0;32m    244\u001B[0m ]\n",
      "File \u001B[1;32mD:\\Programming\\Conda_envs\\ML\\Lib\\site-packages\\pulp\\mps_lp.py:276\u001B[0m, in \u001B[0;36mwriteMPSColumnLines\u001B[1;34m(cv, variable, mip, name, cobj, objName)\u001B[0m\n\u001B[0;32m    274\u001B[0m     columns_lines\u001B[38;5;241m.\u001B[39mappend(\u001B[38;5;124m\"\u001B[39m\u001B[38;5;124m    MARK      \u001B[39m\u001B[38;5;124m'\u001B[39m\u001B[38;5;124mMARKER\u001B[39m\u001B[38;5;124m'\u001B[39m\u001B[38;5;124m                 \u001B[39m\u001B[38;5;124m'\u001B[39m\u001B[38;5;124mINTORG\u001B[39m\u001B[38;5;124m'\u001B[39m\u001B[38;5;130;01m\\n\u001B[39;00m\u001B[38;5;124m\"\u001B[39m)\n\u001B[0;32m    275\u001B[0m \u001B[38;5;66;03m# Most of the work is done here\u001B[39;00m\n\u001B[1;32m--> 276\u001B[0m _tmp \u001B[38;5;241m=\u001B[39m \u001B[43m[\u001B[49m\u001B[38;5;124;43m\"\u001B[39;49m\u001B[38;5;124;43m    \u001B[39;49m\u001B[38;5;132;43;01m%-8s\u001B[39;49;00m\u001B[38;5;124;43m  \u001B[39;49m\u001B[38;5;132;43;01m%-8s\u001B[39;49;00m\u001B[38;5;124;43m  \u001B[39;49m\u001B[38;5;132;43;01m% .12e\u001B[39;49;00m\u001B[38;5;130;43;01m\\n\u001B[39;49;00m\u001B[38;5;124;43m\"\u001B[39;49m\u001B[43m \u001B[49m\u001B[38;5;241;43m%\u001B[39;49m\u001B[43m \u001B[49m\u001B[43m(\u001B[49m\u001B[43mname\u001B[49m\u001B[43m,\u001B[49m\u001B[43m \u001B[49m\u001B[43mk\u001B[49m\u001B[43m,\u001B[49m\u001B[43m \u001B[49m\u001B[43mv\u001B[49m\u001B[43m)\u001B[49m\u001B[43m \u001B[49m\u001B[38;5;28;43;01mfor\u001B[39;49;00m\u001B[43m \u001B[49m\u001B[43mk\u001B[49m\u001B[43m,\u001B[49m\u001B[43m \u001B[49m\u001B[43mv\u001B[49m\u001B[43m \u001B[49m\u001B[38;5;129;43;01min\u001B[39;49;00m\u001B[43m \u001B[49m\u001B[43mcv\u001B[49m\u001B[38;5;241;43m.\u001B[39;49m\u001B[43mitems\u001B[49m\u001B[43m(\u001B[49m\u001B[43m)\u001B[49m\u001B[43m]\u001B[49m\n\u001B[0;32m    277\u001B[0m columns_lines\u001B[38;5;241m.\u001B[39mextend(_tmp)\n\u001B[0;32m    279\u001B[0m \u001B[38;5;66;03m# objective function\u001B[39;00m\n",
      "File \u001B[1;32mD:\\Programming\\Conda_envs\\ML\\Lib\\site-packages\\pulp\\mps_lp.py:276\u001B[0m, in \u001B[0;36m<listcomp>\u001B[1;34m(.0)\u001B[0m\n\u001B[0;32m    274\u001B[0m     columns_lines\u001B[38;5;241m.\u001B[39mappend(\u001B[38;5;124m\"\u001B[39m\u001B[38;5;124m    MARK      \u001B[39m\u001B[38;5;124m'\u001B[39m\u001B[38;5;124mMARKER\u001B[39m\u001B[38;5;124m'\u001B[39m\u001B[38;5;124m                 \u001B[39m\u001B[38;5;124m'\u001B[39m\u001B[38;5;124mINTORG\u001B[39m\u001B[38;5;124m'\u001B[39m\u001B[38;5;130;01m\\n\u001B[39;00m\u001B[38;5;124m\"\u001B[39m)\n\u001B[0;32m    275\u001B[0m \u001B[38;5;66;03m# Most of the work is done here\u001B[39;00m\n\u001B[1;32m--> 276\u001B[0m _tmp \u001B[38;5;241m=\u001B[39m [\u001B[38;5;124m\"\u001B[39m\u001B[38;5;124m    \u001B[39m\u001B[38;5;132;01m%-8s\u001B[39;00m\u001B[38;5;124m  \u001B[39m\u001B[38;5;132;01m%-8s\u001B[39;00m\u001B[38;5;124m  \u001B[39m\u001B[38;5;132;01m% .12e\u001B[39;00m\u001B[38;5;130;01m\\n\u001B[39;00m\u001B[38;5;124m\"\u001B[39m \u001B[38;5;241m%\u001B[39m (name, k, v) \u001B[38;5;28;01mfor\u001B[39;00m k, v \u001B[38;5;129;01min\u001B[39;00m cv\u001B[38;5;241m.\u001B[39mitems()]\n\u001B[0;32m    277\u001B[0m columns_lines\u001B[38;5;241m.\u001B[39mextend(_tmp)\n\u001B[0;32m    279\u001B[0m \u001B[38;5;66;03m# objective function\u001B[39;00m\n",
      "\u001B[1;31mKeyboardInterrupt\u001B[0m: "
     ]
    }
   ],
   "source": [
    "import pulp\n",
    "import itertools\n",
    "import numpy as np\n",
    "\n",
    "# 创建一个 TSP 问题实例\n",
    "def create_tsp_problem(num_cities, distance_matrix):\n",
    "    problem = pulp.LpProblem(\"TSP\", pulp.LpMinimize)\n",
    "\n",
    "    # 创建决策变量：如果城市i和j之间的路径被选择，则x[(i, j)] = 1\n",
    "    x = pulp.LpVariable.dicts('x', itertools.product(range(num_cities), range(num_cities)), \n",
    "                              lowBound=0, upBound=1, cat=pulp.LpBinary)\n",
    "\n",
    "    # 目标函数：最小化总距离\n",
    "    problem += pulp.lpSum(distance_matrix[i][j] * x[(i, j)] for i in range(num_cities) for j in range(num_cities))\n",
    "\n",
    "    # 约束：每个城市必须离开一次和进入一次\n",
    "    for i in range(num_cities):\n",
    "        problem += pulp.lpSum(x[(i, j)] for j in range(num_cities) if i != j) == 1\n",
    "        problem += pulp.lpSum(x[(j, i)] for j in range(num_cities) if i != j) == 1\n",
    "\n",
    "    return problem, x\n",
    "\n",
    "# 检查并添加子循环排除约束\n",
    "def add_subtour_constraints(problem, x, num_cities, solution):\n",
    "    # 找到解决方案中的所有子循环\n",
    "    subtours = find_subtours(solution, num_cities)\n",
    "    for subtour in subtours:\n",
    "        problem += pulp.lpSum(x[(i, j)] for i, j in itertools.permutations(subtour, 2)) <= len(subtour) - 1\n",
    "\n",
    "# 查找解决方案中的所有子循环\n",
    "def find_subtours(solution, num_cities):\n",
    "    # 构建图\n",
    "    graph = {i: [] for i in range(num_cities)}\n",
    "    for (i, j), value in solution.items():\n",
    "        if value == 1:  # 如果城市i到城市j有路径\n",
    "            graph[i].append(j)\n",
    "\n",
    "    visited = [False] * num_cities\n",
    "    subtours = []\n",
    "\n",
    "    def dfs(city, start, path):\n",
    "        visited[city] = True\n",
    "        path.append(city)\n",
    "        for next_city in graph[city]:\n",
    "            if not visited[next_city]:\n",
    "                dfs(next_city, start, path)\n",
    "            elif next_city == start and len(path) > 1:\n",
    "                # 发现子循环\n",
    "                subtours.append(path.copy())\n",
    "\n",
    "    for i in range(num_cities):\n",
    "        if not visited[i]:\n",
    "            dfs(i, i, [])\n",
    "\n",
    "    # 去除重复的子循环\n",
    "    unique_subtours = []\n",
    "    for subtour in subtours:\n",
    "        if set(subtour) not in [set(s) for s in unique_subtours]:\n",
    "            unique_subtours.append(subtour)\n",
    "\n",
    "    return unique_subtours\n",
    "\n",
    "# 创建 TSP 问题实例\n",
    "num_cities = 5\n",
    "# distance_matrix = np.random.rand(num_cities, num_cities) * 100\n",
    "# np.fill_diagonal(distance_matrix, 0)  # 填充对角线为0，因为不需要自环\n",
    "problem, x = create_tsp_problem(num_cities, distance_matrix)\n",
    "\n",
    "# 初始求解\n",
    "solution_found = False\n",
    "while not solution_found:\n",
    "    problem.solve()\n",
    "\n",
    "    # 提取当前解\n",
    "    solution = {(i, j): pulp.value(x[(i, j)]) for i in range(num_cities) for j in range(num_cities)}\n",
    "\n",
    "    # 检查是否有子循环\n",
    "    if not find_subtours(solution, num_cities):  # 如果没有子循环，则找到了有效的解\n",
    "        solution_found = True\n",
    "    else:\n",
    "        # 添加子循环排除约束\n",
    "        add_subtour_constraints(problem, x, num_cities, solution)\n",
    "\n",
    "# 输出最优解\n",
    "print(\"最优路径总距离:\", pulp.value(problem.objective))\n",
    "for i in range(num_cities):\n",
    "    for j in range(num_cities):\n",
    "        if pulp.value(x[(i, j)]) == 1:\n",
    "            print(f\"从城市 {i} 到城市 {j}\")"
   ],
   "metadata": {
    "collapsed": false,
    "ExecuteTime": {
     "end_time": "2023-11-28T11:37:35.656543500Z",
     "start_time": "2023-11-28T11:36:21.970172700Z"
    }
   },
   "id": "ab80e2a2c26885f5"
  },
  {
   "cell_type": "code",
   "execution_count": 14,
   "outputs": [
    {
     "data": {
      "text/plain": "{(0, 0): None,\n (0, 1): 0.5,\n (0, 2): 0.0,\n (0, 3): 0.5,\n (0, 4): 0.0,\n (1, 0): 0.0,\n (1, 1): None,\n (1, 2): 1.0,\n (1, 3): 0.0,\n (1, 4): 0.0,\n (2, 0): 0.0,\n (2, 1): 0.0,\n (2, 2): None,\n (2, 3): 0.5,\n (2, 4): 0.5,\n (3, 0): 0.5,\n (3, 1): 0.0,\n (3, 2): 0.0,\n (3, 3): None,\n (3, 4): 0.5,\n (4, 0): 0.5,\n (4, 1): 0.5,\n (4, 2): 0.0,\n (4, 3): 0.0,\n (4, 4): None}"
     },
     "execution_count": 14,
     "metadata": {},
     "output_type": "execute_result"
    }
   ],
   "source": [
    "solution"
   ],
   "metadata": {
    "collapsed": false,
    "ExecuteTime": {
     "end_time": "2023-11-28T11:13:59.775346800Z",
     "start_time": "2023-11-28T11:13:59.768341200Z"
    }
   },
   "id": "ba95aa7e72c721c5"
  }
 ],
 "metadata": {
  "kernelspec": {
   "display_name": "Python 3",
   "language": "python",
   "name": "python3"
  },
  "language_info": {
   "codemirror_mode": {
    "name": "ipython",
    "version": 2
   },
   "file_extension": ".py",
   "mimetype": "text/x-python",
   "name": "python",
   "nbconvert_exporter": "python",
   "pygments_lexer": "ipython2",
   "version": "2.7.6"
  }
 },
 "nbformat": 4,
 "nbformat_minor": 5
}
