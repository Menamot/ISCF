{
 "cells": [
  {
   "cell_type": "code",
   "execution_count": 2,
   "id": "initial_id",
   "metadata": {
    "collapsed": true,
    "ExecuteTime": {
     "end_time": "2023-11-09T22:52:44.712490300Z",
     "start_time": "2023-11-09T22:52:43.418575300Z"
    }
   },
   "outputs": [],
   "source": [
    "import numpy as np\n",
    "import pandas as pd\n",
    "shanghai_ranking = pd.read_csv('data/Shanghai_ranking_data_2023.csv')\n",
    "THE_ranking = pd.read_csv('data/THE_ranking_data_2023.csv')\n",
    "qs_ranking = pd.read_csv('data/QS_ranking_data_2023.csv')"
   ]
  },
  {
   "cell_type": "code",
   "execution_count": 3,
   "outputs": [],
   "source": [
    "# THE_ranking = pd.read_csv('data/THE_ranking_data.csv')\n",
    "# for index, item in enumerate(THE_ranking.RankTHE):\n",
    "#     item = item.replace('–','-')\n",
    "#     THE_ranking.at[index,'RankTHE'] = item\n",
    "# THE_ranking.to_csv('output.csv')"
   ],
   "metadata": {
    "collapsed": false,
    "ExecuteTime": {
     "end_time": "2023-11-09T22:52:44.717459Z",
     "start_time": "2023-11-09T22:52:44.712490300Z"
    }
   },
   "id": "8e730ef1cc8c0b3e"
  },
  {
   "cell_type": "code",
   "execution_count": 4,
   "outputs": [
    {
     "data": {
      "text/plain": "      Unnamed: 0 RankTHE                                          Name  \\\n0              0       1                          University of Oxford   \n1              1       2                            Harvard University   \n2              2      =3                       University of Cambridge   \n3              3      =3                           Stanford University   \n4              4       5         Massachusetts Institute of Technology   \n...          ...     ...                                           ...   \n1653        1653   1501+                  West University of Timişoara   \n1654        1654   1501+  Wrocław University of Science and Technology   \n1655        1655   1501+                          Yamaguchi University   \n1656        1656   1501+                            Yanshan University   \n1657        1657   1501+                           Yeditepe University   \n\n     No. of FTE students  No. of students per staff International Students  \\\n0                 20,965                       10.6                    42%   \n1                 21,887                        9.6                    25%   \n2                 20,185                       11.3                    39%   \n3                 16,164                        7.1                    24%   \n4                 11,415                        8.2                    33%   \n...                  ...                        ...                    ...   \n1653              14,527                       24.6                     6%   \n1654              23,657                       20.3                     6%   \n1655              10,724                       11.1                     7%   \n1656              38,649                       13.2                     1%   \n1657              17,038                       28.2                     5%   \n\n     Female:Male Ratio    Overall  Teaching  Research Environment  \\\n0              48 : 52       96.4      92.3                  99.7   \n1              50 : 50       95.2      94.8                  99.0   \n2              47 : 53       94.8      90.9                  99.5   \n3              46 : 54       94.8      94.2                  96.7   \n4              40 : 60       94.2      90.7                  93.6   \n...                ...        ...       ...                   ...   \n1653           66 : 34  10.4–18.3      18.7                  13.4   \n1654           35 : 65  10.4–18.3      17.9                  16.0   \n1655           38 : 62  10.4–18.3      21.3                  12.3   \n1656           39 : 61  10.4–18.3      17.2                  10.9   \n1657           55 : 45  10.4–18.3      18.8                  12.2   \n\n      Research Quality  Industry  International Outlook  \n0                 99.0      74.9                   96.2  \n1                 99.3      49.5                   80.5  \n2                 97.0      54.2                   95.8  \n3                 99.8      65.0                   79.8  \n4                 99.8      90.9                   89.3  \n...                ...       ...                    ...  \n1653              16.8      37.7                   28.7  \n1654              14.9      45.5                   27.3  \n1655              13.9      43.8                   30.4  \n1656              18.3      46.9                   17.0  \n1657              10.5      65.7                   29.6  \n\n[1658 rows x 13 columns]",
      "text/html": "<div>\n<style scoped>\n    .dataframe tbody tr th:only-of-type {\n        vertical-align: middle;\n    }\n\n    .dataframe tbody tr th {\n        vertical-align: top;\n    }\n\n    .dataframe thead th {\n        text-align: right;\n    }\n</style>\n<table border=\"1\" class=\"dataframe\">\n  <thead>\n    <tr style=\"text-align: right;\">\n      <th></th>\n      <th>Unnamed: 0</th>\n      <th>RankTHE</th>\n      <th>Name</th>\n      <th>No. of FTE students</th>\n      <th>No. of students per staff</th>\n      <th>International Students</th>\n      <th>Female:Male Ratio</th>\n      <th>Overall</th>\n      <th>Teaching</th>\n      <th>Research Environment</th>\n      <th>Research Quality</th>\n      <th>Industry</th>\n      <th>International Outlook</th>\n    </tr>\n  </thead>\n  <tbody>\n    <tr>\n      <th>0</th>\n      <td>0</td>\n      <td>1</td>\n      <td>University of Oxford</td>\n      <td>20,965</td>\n      <td>10.6</td>\n      <td>42%</td>\n      <td>48 : 52</td>\n      <td>96.4</td>\n      <td>92.3</td>\n      <td>99.7</td>\n      <td>99.0</td>\n      <td>74.9</td>\n      <td>96.2</td>\n    </tr>\n    <tr>\n      <th>1</th>\n      <td>1</td>\n      <td>2</td>\n      <td>Harvard University</td>\n      <td>21,887</td>\n      <td>9.6</td>\n      <td>25%</td>\n      <td>50 : 50</td>\n      <td>95.2</td>\n      <td>94.8</td>\n      <td>99.0</td>\n      <td>99.3</td>\n      <td>49.5</td>\n      <td>80.5</td>\n    </tr>\n    <tr>\n      <th>2</th>\n      <td>2</td>\n      <td>=3</td>\n      <td>University of Cambridge</td>\n      <td>20,185</td>\n      <td>11.3</td>\n      <td>39%</td>\n      <td>47 : 53</td>\n      <td>94.8</td>\n      <td>90.9</td>\n      <td>99.5</td>\n      <td>97.0</td>\n      <td>54.2</td>\n      <td>95.8</td>\n    </tr>\n    <tr>\n      <th>3</th>\n      <td>3</td>\n      <td>=3</td>\n      <td>Stanford University</td>\n      <td>16,164</td>\n      <td>7.1</td>\n      <td>24%</td>\n      <td>46 : 54</td>\n      <td>94.8</td>\n      <td>94.2</td>\n      <td>96.7</td>\n      <td>99.8</td>\n      <td>65.0</td>\n      <td>79.8</td>\n    </tr>\n    <tr>\n      <th>4</th>\n      <td>4</td>\n      <td>5</td>\n      <td>Massachusetts Institute of Technology</td>\n      <td>11,415</td>\n      <td>8.2</td>\n      <td>33%</td>\n      <td>40 : 60</td>\n      <td>94.2</td>\n      <td>90.7</td>\n      <td>93.6</td>\n      <td>99.8</td>\n      <td>90.9</td>\n      <td>89.3</td>\n    </tr>\n    <tr>\n      <th>...</th>\n      <td>...</td>\n      <td>...</td>\n      <td>...</td>\n      <td>...</td>\n      <td>...</td>\n      <td>...</td>\n      <td>...</td>\n      <td>...</td>\n      <td>...</td>\n      <td>...</td>\n      <td>...</td>\n      <td>...</td>\n      <td>...</td>\n    </tr>\n    <tr>\n      <th>1653</th>\n      <td>1653</td>\n      <td>1501+</td>\n      <td>West University of Timişoara</td>\n      <td>14,527</td>\n      <td>24.6</td>\n      <td>6%</td>\n      <td>66 : 34</td>\n      <td>10.4–18.3</td>\n      <td>18.7</td>\n      <td>13.4</td>\n      <td>16.8</td>\n      <td>37.7</td>\n      <td>28.7</td>\n    </tr>\n    <tr>\n      <th>1654</th>\n      <td>1654</td>\n      <td>1501+</td>\n      <td>Wrocław University of Science and Technology</td>\n      <td>23,657</td>\n      <td>20.3</td>\n      <td>6%</td>\n      <td>35 : 65</td>\n      <td>10.4–18.3</td>\n      <td>17.9</td>\n      <td>16.0</td>\n      <td>14.9</td>\n      <td>45.5</td>\n      <td>27.3</td>\n    </tr>\n    <tr>\n      <th>1655</th>\n      <td>1655</td>\n      <td>1501+</td>\n      <td>Yamaguchi University</td>\n      <td>10,724</td>\n      <td>11.1</td>\n      <td>7%</td>\n      <td>38 : 62</td>\n      <td>10.4–18.3</td>\n      <td>21.3</td>\n      <td>12.3</td>\n      <td>13.9</td>\n      <td>43.8</td>\n      <td>30.4</td>\n    </tr>\n    <tr>\n      <th>1656</th>\n      <td>1656</td>\n      <td>1501+</td>\n      <td>Yanshan University</td>\n      <td>38,649</td>\n      <td>13.2</td>\n      <td>1%</td>\n      <td>39 : 61</td>\n      <td>10.4–18.3</td>\n      <td>17.2</td>\n      <td>10.9</td>\n      <td>18.3</td>\n      <td>46.9</td>\n      <td>17.0</td>\n    </tr>\n    <tr>\n      <th>1657</th>\n      <td>1657</td>\n      <td>1501+</td>\n      <td>Yeditepe University</td>\n      <td>17,038</td>\n      <td>28.2</td>\n      <td>5%</td>\n      <td>55 : 45</td>\n      <td>10.4–18.3</td>\n      <td>18.8</td>\n      <td>12.2</td>\n      <td>10.5</td>\n      <td>65.7</td>\n      <td>29.6</td>\n    </tr>\n  </tbody>\n</table>\n<p>1658 rows × 13 columns</p>\n</div>"
     },
     "execution_count": 4,
     "metadata": {},
     "output_type": "execute_result"
    }
   ],
   "source": [
    "THE_ranking=THE_ranking.drop(np.where(THE_ranking.RankTHE=='Reporter')[0])\n",
    "THE_ranking"
   ],
   "metadata": {
    "collapsed": false,
    "ExecuteTime": {
     "end_time": "2023-11-09T22:52:44.747564600Z",
     "start_time": "2023-11-09T22:52:44.717459Z"
    }
   },
   "id": "fda6967cc171ad72"
  },
  {
   "cell_type": "code",
   "execution_count": 5,
   "outputs": [],
   "source": [
    "def merge(Rank1, Rank2, bias):\n",
    "    import Levenshtein\n",
    "    distance = np.empty((len(Rank1.Name),len(Rank2.Name)))\n",
    "    Rank1 = Rank1.rename(columns={'Name':'Name1'})\n",
    "    Rank2 = Rank2.rename(columns={'Name':'Name2'})\n",
    "    for index1, rank1 in enumerate(Rank1.Name1):\n",
    "        for index2, rank2 in enumerate(Rank2.Name2):\n",
    "            distance[index1, index2] = Levenshtein.distance(rank1, rank2)\n",
    "    merged_rank = pd.DataFrame({})\n",
    "    for i in range(distance.shape[0]):\n",
    "        j = np.argmin(distance[i, :])\n",
    "        if distance[i, j] == bias:\n",
    "            # print('i:',i,'j:',j)\n",
    "            merged_row = pd.concat([Rank1.iloc[i], Rank2.iloc[j]], axis=0)\n",
    "            merged_row = merged_row.to_frame().T\n",
    "            merged_rank = pd.concat([merged_rank, merged_row])\n",
    "    merged_rank = merged_rank.reset_index(drop=True)\n",
    "    return merged_rank\n",
    "\n",
    "def clean(merged_rank, row=[]):\n",
    "    for i in row:\n",
    "        merged_rank = merged_rank.drop(i)\n",
    "    merged_rank = merged_rank.drop('Name2',axis=1)\n",
    "    merged_rank = merged_rank.rename(columns={'Name1':'Name'}).reset_index(drop=True)\n",
    "    return merged_rank"
   ],
   "metadata": {
    "collapsed": false,
    "ExecuteTime": {
     "end_time": "2023-11-09T22:52:44.758072Z",
     "start_time": "2023-11-09T22:52:44.751067Z"
    }
   },
   "id": "b1dde857c424ba20"
  },
  {
   "cell_type": "code",
   "execution_count": 6,
   "outputs": [
    {
     "data": {
      "text/plain": "    RankShangHai                                            Name Region  \\\n0              1                              Harvard University     us   \n1              2                             Stanford University     us   \n2              4                         University of Cambridge     gb   \n3              6                            Princeton University     us   \n4              7                            University of Oxford     gb   \n..           ...                                             ...    ...   \n484     901-1000                  Nicolaus Copernicus University     pl   \n485     901-1000                       Southern Cross University     au   \n486     901-1000  Tokyo University of Agriculture and Technology     jp   \n487     901-1000                        Universidad Andr茅s Bello     cl   \n488     901-1000                 Universidade Federal de Pelotas     br   \n\n    Regional rank Total score Alumni  Award   Hici    N&S    PUB  ...  \\\n0               1       100.0  100.0   92.6  100.0  100.0  100.0  ...   \n1               2        74.8   45.6   88.1   73.6   82.8   67.5  ...   \n2               1        67.9   78.9   90.8   45.1   61.0   63.6  ...   \n3               5        60.1   61.7  100.0   32.9   50.4   39.4  ...   \n4               2        59.5   49.9   59.7   51.4   57.6   71.4  ...   \n..            ...         ...    ...    ...    ...    ...    ...  ...   \n484          5月9日         NaN   10.1    0.0    0.0    5.2   23.0  ...   \n485         31-34         NaN   21.9    0.0    0.0    7.3   15.1  ...   \n486         29-32         NaN   15.8    0.0    0.0    6.9   17.3  ...   \n487          3月4日         NaN    8.6    0.0    6.6    2.9   18.7  ...   \n488         15-18         NaN    8.8    0.0    6.6    1.4   19.2  ...   \n\n    cpf rank ifr score ifr rank isr score isr rank irn score irn rank  \\\n0          2      76.9      228      66.9      212     100.0        1   \n1          9      99.8       74      60.3      235      96.3       55   \n2         55     100.0       60      96.3       70      99.5        6   \n3          3      26.0      515      62.2      226      78.5      340   \n4         64      98.8      101      98.4       54      99.9        3   \n..       ...       ...      ...       ...      ...       ...      ...   \n484     601+       3.6     601+       3.9     601+      71.5      441   \n485      393      73.5      243      88.1      120      57.3     601+   \n486      335       5.6     601+       6.4     601+      46.2     601+   \n487     601+       8.0     601+       2.2     601+      45.7     601+   \n488     601+       NaN      NaN       1.4     601+      23.3     601+   \n\n    ger score ger rank score scaled  \n0       100.0        1         97.6  \n1       100.0        2         98.5  \n2       100.0        9         98.8  \n3       100.0        8         89.2  \n4       100.0        7         98.4  \n..        ...      ...          ...  \n484       5.2     601+            -  \n485       7.1     601+            -  \n486       5.1     601+            -  \n487       4.3     601+            -  \n488       6.3     601+            -  \n\n[489 rows x 35 columns]",
      "text/html": "<div>\n<style scoped>\n    .dataframe tbody tr th:only-of-type {\n        vertical-align: middle;\n    }\n\n    .dataframe tbody tr th {\n        vertical-align: top;\n    }\n\n    .dataframe thead th {\n        text-align: right;\n    }\n</style>\n<table border=\"1\" class=\"dataframe\">\n  <thead>\n    <tr style=\"text-align: right;\">\n      <th></th>\n      <th>RankShangHai</th>\n      <th>Name</th>\n      <th>Region</th>\n      <th>Regional rank</th>\n      <th>Total score</th>\n      <th>Alumni</th>\n      <th>Award</th>\n      <th>Hici</th>\n      <th>N&amp;S</th>\n      <th>PUB</th>\n      <th>...</th>\n      <th>cpf rank</th>\n      <th>ifr score</th>\n      <th>ifr rank</th>\n      <th>isr score</th>\n      <th>isr rank</th>\n      <th>irn score</th>\n      <th>irn rank</th>\n      <th>ger score</th>\n      <th>ger rank</th>\n      <th>score scaled</th>\n    </tr>\n  </thead>\n  <tbody>\n    <tr>\n      <th>0</th>\n      <td>1</td>\n      <td>Harvard University</td>\n      <td>us</td>\n      <td>1</td>\n      <td>100.0</td>\n      <td>100.0</td>\n      <td>92.6</td>\n      <td>100.0</td>\n      <td>100.0</td>\n      <td>100.0</td>\n      <td>...</td>\n      <td>2</td>\n      <td>76.9</td>\n      <td>228</td>\n      <td>66.9</td>\n      <td>212</td>\n      <td>100.0</td>\n      <td>1</td>\n      <td>100.0</td>\n      <td>1</td>\n      <td>97.6</td>\n    </tr>\n    <tr>\n      <th>1</th>\n      <td>2</td>\n      <td>Stanford University</td>\n      <td>us</td>\n      <td>2</td>\n      <td>74.8</td>\n      <td>45.6</td>\n      <td>88.1</td>\n      <td>73.6</td>\n      <td>82.8</td>\n      <td>67.5</td>\n      <td>...</td>\n      <td>9</td>\n      <td>99.8</td>\n      <td>74</td>\n      <td>60.3</td>\n      <td>235</td>\n      <td>96.3</td>\n      <td>55</td>\n      <td>100.0</td>\n      <td>2</td>\n      <td>98.5</td>\n    </tr>\n    <tr>\n      <th>2</th>\n      <td>4</td>\n      <td>University of Cambridge</td>\n      <td>gb</td>\n      <td>1</td>\n      <td>67.9</td>\n      <td>78.9</td>\n      <td>90.8</td>\n      <td>45.1</td>\n      <td>61.0</td>\n      <td>63.6</td>\n      <td>...</td>\n      <td>55</td>\n      <td>100.0</td>\n      <td>60</td>\n      <td>96.3</td>\n      <td>70</td>\n      <td>99.5</td>\n      <td>6</td>\n      <td>100.0</td>\n      <td>9</td>\n      <td>98.8</td>\n    </tr>\n    <tr>\n      <th>3</th>\n      <td>6</td>\n      <td>Princeton University</td>\n      <td>us</td>\n      <td>5</td>\n      <td>60.1</td>\n      <td>61.7</td>\n      <td>100.0</td>\n      <td>32.9</td>\n      <td>50.4</td>\n      <td>39.4</td>\n      <td>...</td>\n      <td>3</td>\n      <td>26.0</td>\n      <td>515</td>\n      <td>62.2</td>\n      <td>226</td>\n      <td>78.5</td>\n      <td>340</td>\n      <td>100.0</td>\n      <td>8</td>\n      <td>89.2</td>\n    </tr>\n    <tr>\n      <th>4</th>\n      <td>7</td>\n      <td>University of Oxford</td>\n      <td>gb</td>\n      <td>2</td>\n      <td>59.5</td>\n      <td>49.9</td>\n      <td>59.7</td>\n      <td>51.4</td>\n      <td>57.6</td>\n      <td>71.4</td>\n      <td>...</td>\n      <td>64</td>\n      <td>98.8</td>\n      <td>101</td>\n      <td>98.4</td>\n      <td>54</td>\n      <td>99.9</td>\n      <td>3</td>\n      <td>100.0</td>\n      <td>7</td>\n      <td>98.4</td>\n    </tr>\n    <tr>\n      <th>...</th>\n      <td>...</td>\n      <td>...</td>\n      <td>...</td>\n      <td>...</td>\n      <td>...</td>\n      <td>...</td>\n      <td>...</td>\n      <td>...</td>\n      <td>...</td>\n      <td>...</td>\n      <td>...</td>\n      <td>...</td>\n      <td>...</td>\n      <td>...</td>\n      <td>...</td>\n      <td>...</td>\n      <td>...</td>\n      <td>...</td>\n      <td>...</td>\n      <td>...</td>\n      <td>...</td>\n    </tr>\n    <tr>\n      <th>484</th>\n      <td>901-1000</td>\n      <td>Nicolaus Copernicus University</td>\n      <td>pl</td>\n      <td>5月9日</td>\n      <td>NaN</td>\n      <td>10.1</td>\n      <td>0.0</td>\n      <td>0.0</td>\n      <td>5.2</td>\n      <td>23.0</td>\n      <td>...</td>\n      <td>601+</td>\n      <td>3.6</td>\n      <td>601+</td>\n      <td>3.9</td>\n      <td>601+</td>\n      <td>71.5</td>\n      <td>441</td>\n      <td>5.2</td>\n      <td>601+</td>\n      <td>-</td>\n    </tr>\n    <tr>\n      <th>485</th>\n      <td>901-1000</td>\n      <td>Southern Cross University</td>\n      <td>au</td>\n      <td>31-34</td>\n      <td>NaN</td>\n      <td>21.9</td>\n      <td>0.0</td>\n      <td>0.0</td>\n      <td>7.3</td>\n      <td>15.1</td>\n      <td>...</td>\n      <td>393</td>\n      <td>73.5</td>\n      <td>243</td>\n      <td>88.1</td>\n      <td>120</td>\n      <td>57.3</td>\n      <td>601+</td>\n      <td>7.1</td>\n      <td>601+</td>\n      <td>-</td>\n    </tr>\n    <tr>\n      <th>486</th>\n      <td>901-1000</td>\n      <td>Tokyo University of Agriculture and Technology</td>\n      <td>jp</td>\n      <td>29-32</td>\n      <td>NaN</td>\n      <td>15.8</td>\n      <td>0.0</td>\n      <td>0.0</td>\n      <td>6.9</td>\n      <td>17.3</td>\n      <td>...</td>\n      <td>335</td>\n      <td>5.6</td>\n      <td>601+</td>\n      <td>6.4</td>\n      <td>601+</td>\n      <td>46.2</td>\n      <td>601+</td>\n      <td>5.1</td>\n      <td>601+</td>\n      <td>-</td>\n    </tr>\n    <tr>\n      <th>487</th>\n      <td>901-1000</td>\n      <td>Universidad Andr茅s Bello</td>\n      <td>cl</td>\n      <td>3月4日</td>\n      <td>NaN</td>\n      <td>8.6</td>\n      <td>0.0</td>\n      <td>6.6</td>\n      <td>2.9</td>\n      <td>18.7</td>\n      <td>...</td>\n      <td>601+</td>\n      <td>8.0</td>\n      <td>601+</td>\n      <td>2.2</td>\n      <td>601+</td>\n      <td>45.7</td>\n      <td>601+</td>\n      <td>4.3</td>\n      <td>601+</td>\n      <td>-</td>\n    </tr>\n    <tr>\n      <th>488</th>\n      <td>901-1000</td>\n      <td>Universidade Federal de Pelotas</td>\n      <td>br</td>\n      <td>15-18</td>\n      <td>NaN</td>\n      <td>8.8</td>\n      <td>0.0</td>\n      <td>6.6</td>\n      <td>1.4</td>\n      <td>19.2</td>\n      <td>...</td>\n      <td>601+</td>\n      <td>NaN</td>\n      <td>NaN</td>\n      <td>1.4</td>\n      <td>601+</td>\n      <td>23.3</td>\n      <td>601+</td>\n      <td>6.3</td>\n      <td>601+</td>\n      <td>-</td>\n    </tr>\n  </tbody>\n</table>\n<p>489 rows × 35 columns</p>\n</div>"
     },
     "execution_count": 6,
     "metadata": {},
     "output_type": "execute_result"
    }
   ],
   "source": [
    "merged_rank1 = merge(shanghai_ranking,qs_ranking,0)\n",
    "merged_rank1 = clean(merged_rank1)\n",
    "merged_rank2 = merge(shanghai_ranking,qs_ranking,1)\n",
    "merged_rank2 = clean(merged_rank2)\n",
    "merged_rank = pd.concat([merged_rank1,merged_rank2])\n",
    "merged_rank = merged_rank.reset_index(drop=True)\n",
    "merged_rank"
   ],
   "metadata": {
    "collapsed": false,
    "ExecuteTime": {
     "end_time": "2023-11-09T22:52:47.081679Z",
     "start_time": "2023-11-09T22:52:44.756071500Z"
    }
   },
   "id": "2afebe2642b26b45"
  },
  {
   "cell_type": "code",
   "execution_count": 7,
   "outputs": [
    {
     "data": {
      "text/plain": "    RankShangHai                             Name Region Regional rank  \\\n0              1               Harvard University     us             1   \n1              2              Stanford University     us             2   \n2              4          University of Cambridge     gb             1   \n3              6             Princeton University     us             5   \n4              7             University of Oxford     gb             2   \n..           ...                              ...    ...           ...   \n404      151-200         Aix Marseille University     fr          6月8日   \n405      301-400             Linkoping University     se          7月8日   \n406      301-400     University of Milano-Bicocca     it         9月10日   \n407      601-700       Palack媒 University Olomouc     cz          3月4日   \n408     901-1000  Gdansk University of Technology     pl          5月9日   \n\n    Total score Alumni  Award   Hici    N&S    PUB  ... No. of FTE students  \\\n0         100.0  100.0   92.6  100.0  100.0  100.0  ...              21,887   \n1          74.8   45.6   88.1   73.6   82.8   67.5  ...              16,164   \n2          67.9   78.9   90.8   45.1   61.0   63.6  ...              20,185   \n3          60.1   61.7  100.0   32.9   50.4   39.4  ...               8,279   \n4          59.5   49.9   59.7   51.4   57.6   71.4  ...              20,965   \n..          ...    ...    ...    ...    ...    ...  ...                 ...   \n404         NaN   19.0    0.0   18.6   21.5   48.1  ...              70,054   \n405         NaN   19.1    0.0   13.2   10.6   32.0  ...              15,026   \n406         NaN   23.1    0.0   11.4    7.2   34.2  ...              29,057   \n407         NaN   20.5    0.0    6.6    6.6   21.8  ...              18,673   \n408         NaN   12.9    0.0    6.6    0.0   20.5  ...              14,816   \n\n    No. of students per staff International Students Female:Male Ratio  \\\n0                         9.6                    25%           50 : 50   \n1                         7.1                    24%           46 : 54   \n2                        11.3                    39%           47 : 53   \n3                         8.0                    23%           46 : 54   \n4                        10.6                    42%           48 : 52   \n..                        ...                    ...               ...   \n404                      17.4                    13%           60 : 40   \n405                      14.4                    15%           52 : 48   \n406                      29.2                     5%           62 : 38   \n407                      14.5                    13%           69 : 31   \n408                      19.9                     5%           38 : 62   \n\n       Overall Teaching Research Environment Research Quality Industry  \\\n0         95.2     94.8                 99.0             99.3     49.5   \n1         94.8     94.2                 96.7             99.8     65.0   \n2         94.8     90.9                 99.5             97.0     54.2   \n3         92.4     87.6                 95.9             99.1     66.0   \n4         96.4     92.3                 99.7             99.0     74.9   \n..         ...      ...                  ...              ...      ...   \n404  47.0–48.7     40.5                 24.9             72.3     41.5   \n405  48.9–51.1     23.5                 39.8             78.0     61.8   \n406  47.0–48.7     24.9                 25.9             93.6     40.8   \n407  24.4–29.7     19.6                 19.9             40.0     37.8   \n408  18.4–24.3     17.7                 15.1             33.3     45.0   \n\n    International Outlook  \n0                    80.5  \n1                    79.8  \n2                    95.8  \n3                    80.3  \n4                    96.2  \n..                    ...  \n404                  63.2  \n405                  70.8  \n406                  43.0  \n407                  59.3  \n408                  29.9  \n\n[409 rows x 47 columns]",
      "text/html": "<div>\n<style scoped>\n    .dataframe tbody tr th:only-of-type {\n        vertical-align: middle;\n    }\n\n    .dataframe tbody tr th {\n        vertical-align: top;\n    }\n\n    .dataframe thead th {\n        text-align: right;\n    }\n</style>\n<table border=\"1\" class=\"dataframe\">\n  <thead>\n    <tr style=\"text-align: right;\">\n      <th></th>\n      <th>RankShangHai</th>\n      <th>Name</th>\n      <th>Region</th>\n      <th>Regional rank</th>\n      <th>Total score</th>\n      <th>Alumni</th>\n      <th>Award</th>\n      <th>Hici</th>\n      <th>N&amp;S</th>\n      <th>PUB</th>\n      <th>...</th>\n      <th>No. of FTE students</th>\n      <th>No. of students per staff</th>\n      <th>International Students</th>\n      <th>Female:Male Ratio</th>\n      <th>Overall</th>\n      <th>Teaching</th>\n      <th>Research Environment</th>\n      <th>Research Quality</th>\n      <th>Industry</th>\n      <th>International Outlook</th>\n    </tr>\n  </thead>\n  <tbody>\n    <tr>\n      <th>0</th>\n      <td>1</td>\n      <td>Harvard University</td>\n      <td>us</td>\n      <td>1</td>\n      <td>100.0</td>\n      <td>100.0</td>\n      <td>92.6</td>\n      <td>100.0</td>\n      <td>100.0</td>\n      <td>100.0</td>\n      <td>...</td>\n      <td>21,887</td>\n      <td>9.6</td>\n      <td>25%</td>\n      <td>50 : 50</td>\n      <td>95.2</td>\n      <td>94.8</td>\n      <td>99.0</td>\n      <td>99.3</td>\n      <td>49.5</td>\n      <td>80.5</td>\n    </tr>\n    <tr>\n      <th>1</th>\n      <td>2</td>\n      <td>Stanford University</td>\n      <td>us</td>\n      <td>2</td>\n      <td>74.8</td>\n      <td>45.6</td>\n      <td>88.1</td>\n      <td>73.6</td>\n      <td>82.8</td>\n      <td>67.5</td>\n      <td>...</td>\n      <td>16,164</td>\n      <td>7.1</td>\n      <td>24%</td>\n      <td>46 : 54</td>\n      <td>94.8</td>\n      <td>94.2</td>\n      <td>96.7</td>\n      <td>99.8</td>\n      <td>65.0</td>\n      <td>79.8</td>\n    </tr>\n    <tr>\n      <th>2</th>\n      <td>4</td>\n      <td>University of Cambridge</td>\n      <td>gb</td>\n      <td>1</td>\n      <td>67.9</td>\n      <td>78.9</td>\n      <td>90.8</td>\n      <td>45.1</td>\n      <td>61.0</td>\n      <td>63.6</td>\n      <td>...</td>\n      <td>20,185</td>\n      <td>11.3</td>\n      <td>39%</td>\n      <td>47 : 53</td>\n      <td>94.8</td>\n      <td>90.9</td>\n      <td>99.5</td>\n      <td>97.0</td>\n      <td>54.2</td>\n      <td>95.8</td>\n    </tr>\n    <tr>\n      <th>3</th>\n      <td>6</td>\n      <td>Princeton University</td>\n      <td>us</td>\n      <td>5</td>\n      <td>60.1</td>\n      <td>61.7</td>\n      <td>100.0</td>\n      <td>32.9</td>\n      <td>50.4</td>\n      <td>39.4</td>\n      <td>...</td>\n      <td>8,279</td>\n      <td>8.0</td>\n      <td>23%</td>\n      <td>46 : 54</td>\n      <td>92.4</td>\n      <td>87.6</td>\n      <td>95.9</td>\n      <td>99.1</td>\n      <td>66.0</td>\n      <td>80.3</td>\n    </tr>\n    <tr>\n      <th>4</th>\n      <td>7</td>\n      <td>University of Oxford</td>\n      <td>gb</td>\n      <td>2</td>\n      <td>59.5</td>\n      <td>49.9</td>\n      <td>59.7</td>\n      <td>51.4</td>\n      <td>57.6</td>\n      <td>71.4</td>\n      <td>...</td>\n      <td>20,965</td>\n      <td>10.6</td>\n      <td>42%</td>\n      <td>48 : 52</td>\n      <td>96.4</td>\n      <td>92.3</td>\n      <td>99.7</td>\n      <td>99.0</td>\n      <td>74.9</td>\n      <td>96.2</td>\n    </tr>\n    <tr>\n      <th>...</th>\n      <td>...</td>\n      <td>...</td>\n      <td>...</td>\n      <td>...</td>\n      <td>...</td>\n      <td>...</td>\n      <td>...</td>\n      <td>...</td>\n      <td>...</td>\n      <td>...</td>\n      <td>...</td>\n      <td>...</td>\n      <td>...</td>\n      <td>...</td>\n      <td>...</td>\n      <td>...</td>\n      <td>...</td>\n      <td>...</td>\n      <td>...</td>\n      <td>...</td>\n      <td>...</td>\n    </tr>\n    <tr>\n      <th>404</th>\n      <td>151-200</td>\n      <td>Aix Marseille University</td>\n      <td>fr</td>\n      <td>6月8日</td>\n      <td>NaN</td>\n      <td>19.0</td>\n      <td>0.0</td>\n      <td>18.6</td>\n      <td>21.5</td>\n      <td>48.1</td>\n      <td>...</td>\n      <td>70,054</td>\n      <td>17.4</td>\n      <td>13%</td>\n      <td>60 : 40</td>\n      <td>47.0–48.7</td>\n      <td>40.5</td>\n      <td>24.9</td>\n      <td>72.3</td>\n      <td>41.5</td>\n      <td>63.2</td>\n    </tr>\n    <tr>\n      <th>405</th>\n      <td>301-400</td>\n      <td>Linkoping University</td>\n      <td>se</td>\n      <td>7月8日</td>\n      <td>NaN</td>\n      <td>19.1</td>\n      <td>0.0</td>\n      <td>13.2</td>\n      <td>10.6</td>\n      <td>32.0</td>\n      <td>...</td>\n      <td>15,026</td>\n      <td>14.4</td>\n      <td>15%</td>\n      <td>52 : 48</td>\n      <td>48.9–51.1</td>\n      <td>23.5</td>\n      <td>39.8</td>\n      <td>78.0</td>\n      <td>61.8</td>\n      <td>70.8</td>\n    </tr>\n    <tr>\n      <th>406</th>\n      <td>301-400</td>\n      <td>University of Milano-Bicocca</td>\n      <td>it</td>\n      <td>9月10日</td>\n      <td>NaN</td>\n      <td>23.1</td>\n      <td>0.0</td>\n      <td>11.4</td>\n      <td>7.2</td>\n      <td>34.2</td>\n      <td>...</td>\n      <td>29,057</td>\n      <td>29.2</td>\n      <td>5%</td>\n      <td>62 : 38</td>\n      <td>47.0–48.7</td>\n      <td>24.9</td>\n      <td>25.9</td>\n      <td>93.6</td>\n      <td>40.8</td>\n      <td>43.0</td>\n    </tr>\n    <tr>\n      <th>407</th>\n      <td>601-700</td>\n      <td>Palack媒 University Olomouc</td>\n      <td>cz</td>\n      <td>3月4日</td>\n      <td>NaN</td>\n      <td>20.5</td>\n      <td>0.0</td>\n      <td>6.6</td>\n      <td>6.6</td>\n      <td>21.8</td>\n      <td>...</td>\n      <td>18,673</td>\n      <td>14.5</td>\n      <td>13%</td>\n      <td>69 : 31</td>\n      <td>24.4–29.7</td>\n      <td>19.6</td>\n      <td>19.9</td>\n      <td>40.0</td>\n      <td>37.8</td>\n      <td>59.3</td>\n    </tr>\n    <tr>\n      <th>408</th>\n      <td>901-1000</td>\n      <td>Gdansk University of Technology</td>\n      <td>pl</td>\n      <td>5月9日</td>\n      <td>NaN</td>\n      <td>12.9</td>\n      <td>0.0</td>\n      <td>6.6</td>\n      <td>0.0</td>\n      <td>20.5</td>\n      <td>...</td>\n      <td>14,816</td>\n      <td>19.9</td>\n      <td>5%</td>\n      <td>38 : 62</td>\n      <td>18.4–24.3</td>\n      <td>17.7</td>\n      <td>15.1</td>\n      <td>33.3</td>\n      <td>45.0</td>\n      <td>29.9</td>\n    </tr>\n  </tbody>\n</table>\n<p>409 rows × 47 columns</p>\n</div>"
     },
     "execution_count": 7,
     "metadata": {},
     "output_type": "execute_result"
    }
   ],
   "source": [
    "merged_rank1 = merge(merged_rank,THE_ranking,0)\n",
    "merged_rank1 = clean(merged_rank1)\n",
    "merged_rank2 = merge(merged_rank,THE_ranking,1)\n",
    "merged_rank2 = clean(merged_rank2)\n",
    "merged_rank = pd.concat([merged_rank1,merged_rank2])\n",
    "merged_rank = merged_rank.reset_index(drop=True)\n",
    "merged_rank"
   ],
   "metadata": {
    "collapsed": false,
    "ExecuteTime": {
     "end_time": "2023-11-09T22:52:48.520333800Z",
     "start_time": "2023-11-09T22:52:47.083679400Z"
    }
   },
   "id": "20d98e2bff672afb"
  },
  {
   "cell_type": "code",
   "execution_count": 8,
   "outputs": [
    {
     "data": {
      "text/plain": "                                Name RankShangHai    RankQS    RankTHE\n0                 Harvard University            1         5          2\n1                Stanford University            2         3         =3\n2            University of Cambridge            4         2         =3\n3               Princeton University            6       16=          7\n4               University of Oxford            7         4          1\n..                               ...          ...       ...        ...\n404         Aix Marseille University      151-200      490=    301-350\n405             Linkoping University      301-400      320=    251-300\n406     University of Milano-Bicocca      301-400   601-650    301-350\n407       Palack媒 University Olomouc      601-700   651-700  1001-1200\n408  Gdansk University of Technology     901-1000  801-1000  1201-1500\n\n[409 rows x 4 columns]",
      "text/html": "<div>\n<style scoped>\n    .dataframe tbody tr th:only-of-type {\n        vertical-align: middle;\n    }\n\n    .dataframe tbody tr th {\n        vertical-align: top;\n    }\n\n    .dataframe thead th {\n        text-align: right;\n    }\n</style>\n<table border=\"1\" class=\"dataframe\">\n  <thead>\n    <tr style=\"text-align: right;\">\n      <th></th>\n      <th>Name</th>\n      <th>RankShangHai</th>\n      <th>RankQS</th>\n      <th>RankTHE</th>\n    </tr>\n  </thead>\n  <tbody>\n    <tr>\n      <th>0</th>\n      <td>Harvard University</td>\n      <td>1</td>\n      <td>5</td>\n      <td>2</td>\n    </tr>\n    <tr>\n      <th>1</th>\n      <td>Stanford University</td>\n      <td>2</td>\n      <td>3</td>\n      <td>=3</td>\n    </tr>\n    <tr>\n      <th>2</th>\n      <td>University of Cambridge</td>\n      <td>4</td>\n      <td>2</td>\n      <td>=3</td>\n    </tr>\n    <tr>\n      <th>3</th>\n      <td>Princeton University</td>\n      <td>6</td>\n      <td>16=</td>\n      <td>7</td>\n    </tr>\n    <tr>\n      <th>4</th>\n      <td>University of Oxford</td>\n      <td>7</td>\n      <td>4</td>\n      <td>1</td>\n    </tr>\n    <tr>\n      <th>...</th>\n      <td>...</td>\n      <td>...</td>\n      <td>...</td>\n      <td>...</td>\n    </tr>\n    <tr>\n      <th>404</th>\n      <td>Aix Marseille University</td>\n      <td>151-200</td>\n      <td>490=</td>\n      <td>301-350</td>\n    </tr>\n    <tr>\n      <th>405</th>\n      <td>Linkoping University</td>\n      <td>301-400</td>\n      <td>320=</td>\n      <td>251-300</td>\n    </tr>\n    <tr>\n      <th>406</th>\n      <td>University of Milano-Bicocca</td>\n      <td>301-400</td>\n      <td>601-650</td>\n      <td>301-350</td>\n    </tr>\n    <tr>\n      <th>407</th>\n      <td>Palack媒 University Olomouc</td>\n      <td>601-700</td>\n      <td>651-700</td>\n      <td>1001-1200</td>\n    </tr>\n    <tr>\n      <th>408</th>\n      <td>Gdansk University of Technology</td>\n      <td>901-1000</td>\n      <td>801-1000</td>\n      <td>1201-1500</td>\n    </tr>\n  </tbody>\n</table>\n<p>409 rows × 4 columns</p>\n</div>"
     },
     "execution_count": 8,
     "metadata": {},
     "output_type": "execute_result"
    }
   ],
   "source": [
    "sample_rank = merged_rank.loc[:,['Name','RankShangHai','RankQS','RankTHE']]\n",
    "sample_rank"
   ],
   "metadata": {
    "collapsed": false,
    "ExecuteTime": {
     "end_time": "2023-11-09T22:52:48.528381100Z",
     "start_time": "2023-11-09T22:52:48.513517Z"
    }
   },
   "id": "5497ae3a29bf0d3a"
  },
  {
   "cell_type": "code",
   "execution_count": 9,
   "outputs": [],
   "source": [
    "sample_rank = merged_rank.loc[:,['Name','RankShangHai','RankQS','RankTHE']]\n",
    "\n",
    "def level(rank,rankname):\n",
    "    for index, item in enumerate(rank[rankname]):\n",
    "        item=str(item)\n",
    "        if '=' in item:\n",
    "            rank.at[index, rankname] = item.replace('=','')\n",
    "        if '+' in item:\n",
    "            rank.at[index, rankname] = item.replace('+','')\n",
    "        if '-' in item:\n",
    "            numbers = item.split('-')\n",
    "            num1, num2 = map(int, numbers)\n",
    "            # print(numbers)\n",
    "            avg = str(int((num1+num2)/2))\n",
    "            rank.at[index, rankname] = avg\n",
    "    rank = rank.reset_index(drop=True)\n",
    "    return rank\n",
    "sample_rank = level(sample_rank,'RankQS')\n",
    "sample_rank = level(sample_rank,'RankTHE')\n",
    "sample_rank = level(sample_rank,'RankShangHai')\n",
    "sample_rank.RankQS = sample_rank.RankQS.astype(int)\n",
    "sample_rank.RankTHE = sample_rank.RankTHE.astype(int)\n",
    "sample_rank.RankShangHai = sample_rank.RankShangHai.astype(int)"
   ],
   "metadata": {
    "collapsed": false,
    "ExecuteTime": {
     "end_time": "2023-11-09T22:52:48.610961800Z",
     "start_time": "2023-11-09T22:52:48.523834900Z"
    }
   },
   "id": "a51d74a0cb68d5cc"
  },
  {
   "cell_type": "code",
   "execution_count": 10,
   "outputs": [
    {
     "data": {
      "text/plain": "                                Name  RankShangHai  RankQS  RankTHE\n0                 Harvard University             1       5        2\n1                Stanford University             2       3        3\n2            University of Cambridge             4       2        3\n3               Princeton University             6      16        7\n4               University of Oxford             7       4        1\n..                               ...           ...     ...      ...\n404         Aix Marseille University           175     490      325\n405             Linkoping University           350     320      275\n406     University of Milano-Bicocca           350     625      325\n407       Palack媒 University Olomouc           650     675     1100\n408  Gdansk University of Technology           950     900     1350\n\n[409 rows x 4 columns]",
      "text/html": "<div>\n<style scoped>\n    .dataframe tbody tr th:only-of-type {\n        vertical-align: middle;\n    }\n\n    .dataframe tbody tr th {\n        vertical-align: top;\n    }\n\n    .dataframe thead th {\n        text-align: right;\n    }\n</style>\n<table border=\"1\" class=\"dataframe\">\n  <thead>\n    <tr style=\"text-align: right;\">\n      <th></th>\n      <th>Name</th>\n      <th>RankShangHai</th>\n      <th>RankQS</th>\n      <th>RankTHE</th>\n    </tr>\n  </thead>\n  <tbody>\n    <tr>\n      <th>0</th>\n      <td>Harvard University</td>\n      <td>1</td>\n      <td>5</td>\n      <td>2</td>\n    </tr>\n    <tr>\n      <th>1</th>\n      <td>Stanford University</td>\n      <td>2</td>\n      <td>3</td>\n      <td>3</td>\n    </tr>\n    <tr>\n      <th>2</th>\n      <td>University of Cambridge</td>\n      <td>4</td>\n      <td>2</td>\n      <td>3</td>\n    </tr>\n    <tr>\n      <th>3</th>\n      <td>Princeton University</td>\n      <td>6</td>\n      <td>16</td>\n      <td>7</td>\n    </tr>\n    <tr>\n      <th>4</th>\n      <td>University of Oxford</td>\n      <td>7</td>\n      <td>4</td>\n      <td>1</td>\n    </tr>\n    <tr>\n      <th>...</th>\n      <td>...</td>\n      <td>...</td>\n      <td>...</td>\n      <td>...</td>\n    </tr>\n    <tr>\n      <th>404</th>\n      <td>Aix Marseille University</td>\n      <td>175</td>\n      <td>490</td>\n      <td>325</td>\n    </tr>\n    <tr>\n      <th>405</th>\n      <td>Linkoping University</td>\n      <td>350</td>\n      <td>320</td>\n      <td>275</td>\n    </tr>\n    <tr>\n      <th>406</th>\n      <td>University of Milano-Bicocca</td>\n      <td>350</td>\n      <td>625</td>\n      <td>325</td>\n    </tr>\n    <tr>\n      <th>407</th>\n      <td>Palack媒 University Olomouc</td>\n      <td>650</td>\n      <td>675</td>\n      <td>1100</td>\n    </tr>\n    <tr>\n      <th>408</th>\n      <td>Gdansk University of Technology</td>\n      <td>950</td>\n      <td>900</td>\n      <td>1350</td>\n    </tr>\n  </tbody>\n</table>\n<p>409 rows × 4 columns</p>\n</div>"
     },
     "execution_count": 10,
     "metadata": {},
     "output_type": "execute_result"
    }
   ],
   "source": [
    "sample_rank"
   ],
   "metadata": {
    "collapsed": false,
    "ExecuteTime": {
     "end_time": "2023-11-09T22:52:48.637595400Z",
     "start_time": "2023-11-09T22:52:48.546907600Z"
    }
   },
   "id": "ffd9aa4298e66d7b"
  },
  {
   "cell_type": "code",
   "execution_count": 90,
   "outputs": [
    {
     "data": {
      "text/plain": "                                 RankShangHai  RankQS  RankTHE  MedianRank  \\\nName                                                                         \nHarvard University                          1       5        2         2.0   \nStanford University                         2       3        3         3.0   \nUniversity of Cambridge                     4       2        3         3.0   \nPrinceton University                        6      16        7         7.0   \nUniversity of Oxford                        7       4        1         4.0   \n...                                       ...     ...      ...         ...   \nAix Marseille University                  175     490      325       325.0   \nLinkoping University                      350     320      275       320.0   \nUniversity of Milano-Bicocca              350     625      325       350.0   \nPalack媒 University Olomouc                650     675     1100       675.0   \nGdansk University of Technology           950     900     1350       950.0   \n\n                                 RankMJ  NewMedianRank  \nName                                                    \nHarvard University                    1            NaN  \nStanford University                   2            2.5  \nUniversity of Cambridge               3            3.0  \nPrinceton University                  5            NaN  \nUniversity of Oxford                  4            NaN  \n...                                 ...            ...  \nAix Marseille University            167          332.5  \nLinkoping University                161            NaN  \nUniversity of Milano-Bicocca        185          475.0  \nPalack媒 University Olomouc          305          875.0  \nGdansk University of Technology     401         1125.0  \n\n[409 rows x 6 columns]",
      "text/html": "<div>\n<style scoped>\n    .dataframe tbody tr th:only-of-type {\n        vertical-align: middle;\n    }\n\n    .dataframe tbody tr th {\n        vertical-align: top;\n    }\n\n    .dataframe thead th {\n        text-align: right;\n    }\n</style>\n<table border=\"1\" class=\"dataframe\">\n  <thead>\n    <tr style=\"text-align: right;\">\n      <th></th>\n      <th>RankShangHai</th>\n      <th>RankQS</th>\n      <th>RankTHE</th>\n      <th>MedianRank</th>\n      <th>RankMJ</th>\n      <th>NewMedianRank</th>\n    </tr>\n    <tr>\n      <th>Name</th>\n      <th></th>\n      <th></th>\n      <th></th>\n      <th></th>\n      <th></th>\n      <th></th>\n    </tr>\n  </thead>\n  <tbody>\n    <tr>\n      <th>Harvard University</th>\n      <td>1</td>\n      <td>5</td>\n      <td>2</td>\n      <td>2.0</td>\n      <td>1</td>\n      <td>NaN</td>\n    </tr>\n    <tr>\n      <th>Stanford University</th>\n      <td>2</td>\n      <td>3</td>\n      <td>3</td>\n      <td>3.0</td>\n      <td>2</td>\n      <td>2.5</td>\n    </tr>\n    <tr>\n      <th>University of Cambridge</th>\n      <td>4</td>\n      <td>2</td>\n      <td>3</td>\n      <td>3.0</td>\n      <td>3</td>\n      <td>3.0</td>\n    </tr>\n    <tr>\n      <th>Princeton University</th>\n      <td>6</td>\n      <td>16</td>\n      <td>7</td>\n      <td>7.0</td>\n      <td>5</td>\n      <td>NaN</td>\n    </tr>\n    <tr>\n      <th>University of Oxford</th>\n      <td>7</td>\n      <td>4</td>\n      <td>1</td>\n      <td>4.0</td>\n      <td>4</td>\n      <td>NaN</td>\n    </tr>\n    <tr>\n      <th>...</th>\n      <td>...</td>\n      <td>...</td>\n      <td>...</td>\n      <td>...</td>\n      <td>...</td>\n      <td>...</td>\n    </tr>\n    <tr>\n      <th>Aix Marseille University</th>\n      <td>175</td>\n      <td>490</td>\n      <td>325</td>\n      <td>325.0</td>\n      <td>167</td>\n      <td>332.5</td>\n    </tr>\n    <tr>\n      <th>Linkoping University</th>\n      <td>350</td>\n      <td>320</td>\n      <td>275</td>\n      <td>320.0</td>\n      <td>161</td>\n      <td>NaN</td>\n    </tr>\n    <tr>\n      <th>University of Milano-Bicocca</th>\n      <td>350</td>\n      <td>625</td>\n      <td>325</td>\n      <td>350.0</td>\n      <td>185</td>\n      <td>475.0</td>\n    </tr>\n    <tr>\n      <th>Palack媒 University Olomouc</th>\n      <td>650</td>\n      <td>675</td>\n      <td>1100</td>\n      <td>675.0</td>\n      <td>305</td>\n      <td>875.0</td>\n    </tr>\n    <tr>\n      <th>Gdansk University of Technology</th>\n      <td>950</td>\n      <td>900</td>\n      <td>1350</td>\n      <td>950.0</td>\n      <td>401</td>\n      <td>1125.0</td>\n    </tr>\n  </tbody>\n</table>\n<p>409 rows × 6 columns</p>\n</div>"
     },
     "execution_count": 90,
     "metadata": {},
     "output_type": "execute_result"
    }
   ],
   "source": [
    "def MJ(rank):\n",
    "    rank_number = rank.shape[1] - 1\n",
    "    rank = rank.set_index('Name')\n",
    "    rank['MedianRank'] = rank.median(axis=1)\n",
    "    rank['RankMJ'] = 0\n",
    "    rank['Temp'] = 0.0\n",
    "    unique_medians = rank['MedianRank'].unique()\n",
    "    sorted_medians = sorted(unique_medians)\n",
    "    \n",
    "    rankMJ = 1  # 初始化排名\n",
    "    # 对每个中位数分组内的学校进行排序\n",
    "    for median in sorted_medians:\n",
    "        # 找出所有中位数排名相同的学校\n",
    "        tied_df = rank[rank['MedianRank'] == median]\n",
    "        \n",
    "        # 如果只有一个学校，则直接分配当前排名\n",
    "        if len(tied_df) == 1:\n",
    "            rank.loc[tied_df.index, 'RankMJ'] = rankMJ\n",
    "            rankMJ += 1\n",
    "        else:\n",
    "            # 如果有多个学校并列，根据其他排名的中位数来分配先后顺序\n",
    "            for i in range(len(tied_df)):\n",
    "                t = []\n",
    "                label = False\n",
    "                for j in range(rank_number):\n",
    "                    if tied_df.iloc[[i],[j]].values == tied_df.iloc[[i],[rank_number]].values and label == False:\n",
    "                        label = True\n",
    "                    else:\n",
    "                        t.append(tied_df.iloc[[i],[j]].values)\n",
    "                tied_df.iloc[[i],[rank_number+2]] = np.median(t)\n",
    "            # 根据平均排名对并列的学校进行排序\n",
    "            tied_df = tied_df.sort_values(by='Temp')\n",
    "            aaa = tied_df['Temp'].value_counts()\n",
    "            # 分配排名\n",
    "            cal=0\n",
    "            for idx in tied_df.index:\n",
    "                rank.loc[idx, 'NewMedianRank'] = tied_df.loc[idx,'Temp']\n",
    "                rank.loc[idx, 'RankMJ'] = rankMJ\n",
    "                cal += 1\n",
    "                if tied_df.loc[idx,'Temp'] in aaa.index:\n",
    "                    if cal == aaa[tied_df.loc[idx,'Temp']]:\n",
    "                        rankMJ += aaa[tied_df.loc[idx,'Temp']]\n",
    "                        cal=0\n",
    "                    \n",
    "    return rank.drop('Temp', axis=1)\n",
    "\n",
    "df = MJ(sample_rank)\n",
    "df"
   ],
   "metadata": {
    "collapsed": false,
    "ExecuteTime": {
     "end_time": "2023-11-10T00:17:14.173971100Z",
     "start_time": "2023-11-10T00:17:13.513376400Z"
    }
   },
   "id": "e702b59fbd2c69d9"
  },
  {
   "cell_type": "code",
   "execution_count": 85,
   "outputs": [
    {
     "name": "stdout",
     "output_type": "stream",
     "text": [
      "Index([0.1, 0.2, 0.3, 0.4], dtype='float64')\n"
     ]
    }
   ],
   "source": [
    "s = pd.Series([1, 2, 3, 4], index=[0.1, 0.2, 0.3, 0.4])\n",
    "\n",
    "# 选择索引为0.1的数据\n",
    "\n",
    "print(s.index)"
   ],
   "metadata": {
    "collapsed": false,
    "ExecuteTime": {
     "end_time": "2023-11-10T00:06:35.233772400Z",
     "start_time": "2023-11-10T00:06:35.231605200Z"
    }
   },
   "id": "c6fa6158da26f44d"
  },
  {
   "cell_type": "code",
   "execution_count": 12,
   "outputs": [
    {
     "data": {
      "text/plain": "                                Name Alumni   Hici    PUB   PCP\n0                 Harvard University  100.0  100.0  100.0  86.7\n1                Stanford University   45.6   73.6   67.5  58.0\n2            University of Cambridge   78.9   45.1   63.6  60.4\n3               Princeton University   61.7   32.9   39.4  76.7\n4               University of Oxford   49.9   51.4   71.4  48.5\n..                               ...    ...    ...    ...   ...\n404         Aix Marseille University   19.0   18.6   48.1  19.0\n405             Linkoping University   19.1   13.2   32.0  19.1\n406     University of Milano-Bicocca   23.1   11.4   34.2  23.1\n407       Palack媒 University Olomouc   20.5    6.6   21.8  20.5\n408  Gdansk University of Technology   12.9    6.6   20.5  12.9\n\n[409 rows x 5 columns]",
      "text/html": "<div>\n<style scoped>\n    .dataframe tbody tr th:only-of-type {\n        vertical-align: middle;\n    }\n\n    .dataframe tbody tr th {\n        vertical-align: top;\n    }\n\n    .dataframe thead th {\n        text-align: right;\n    }\n</style>\n<table border=\"1\" class=\"dataframe\">\n  <thead>\n    <tr style=\"text-align: right;\">\n      <th></th>\n      <th>Name</th>\n      <th>Alumni</th>\n      <th>Hici</th>\n      <th>PUB</th>\n      <th>PCP</th>\n    </tr>\n  </thead>\n  <tbody>\n    <tr>\n      <th>0</th>\n      <td>Harvard University</td>\n      <td>100.0</td>\n      <td>100.0</td>\n      <td>100.0</td>\n      <td>86.7</td>\n    </tr>\n    <tr>\n      <th>1</th>\n      <td>Stanford University</td>\n      <td>45.6</td>\n      <td>73.6</td>\n      <td>67.5</td>\n      <td>58.0</td>\n    </tr>\n    <tr>\n      <th>2</th>\n      <td>University of Cambridge</td>\n      <td>78.9</td>\n      <td>45.1</td>\n      <td>63.6</td>\n      <td>60.4</td>\n    </tr>\n    <tr>\n      <th>3</th>\n      <td>Princeton University</td>\n      <td>61.7</td>\n      <td>32.9</td>\n      <td>39.4</td>\n      <td>76.7</td>\n    </tr>\n    <tr>\n      <th>4</th>\n      <td>University of Oxford</td>\n      <td>49.9</td>\n      <td>51.4</td>\n      <td>71.4</td>\n      <td>48.5</td>\n    </tr>\n    <tr>\n      <th>...</th>\n      <td>...</td>\n      <td>...</td>\n      <td>...</td>\n      <td>...</td>\n      <td>...</td>\n    </tr>\n    <tr>\n      <th>404</th>\n      <td>Aix Marseille University</td>\n      <td>19.0</td>\n      <td>18.6</td>\n      <td>48.1</td>\n      <td>19.0</td>\n    </tr>\n    <tr>\n      <th>405</th>\n      <td>Linkoping University</td>\n      <td>19.1</td>\n      <td>13.2</td>\n      <td>32.0</td>\n      <td>19.1</td>\n    </tr>\n    <tr>\n      <th>406</th>\n      <td>University of Milano-Bicocca</td>\n      <td>23.1</td>\n      <td>11.4</td>\n      <td>34.2</td>\n      <td>23.1</td>\n    </tr>\n    <tr>\n      <th>407</th>\n      <td>Palack媒 University Olomouc</td>\n      <td>20.5</td>\n      <td>6.6</td>\n      <td>21.8</td>\n      <td>20.5</td>\n    </tr>\n    <tr>\n      <th>408</th>\n      <td>Gdansk University of Technology</td>\n      <td>12.9</td>\n      <td>6.6</td>\n      <td>20.5</td>\n      <td>12.9</td>\n    </tr>\n  </tbody>\n</table>\n<p>409 rows × 5 columns</p>\n</div>"
     },
     "execution_count": 12,
     "metadata": {},
     "output_type": "execute_result"
    }
   ],
   "source": [
    "sample_rank2 = merged_rank.loc[:, ['Name','Alumni','Hici','PUB','PCP']]\n",
    "sample_rank2"
   ],
   "metadata": {
    "collapsed": false,
    "ExecuteTime": {
     "end_time": "2023-11-09T22:52:49.297826200Z",
     "start_time": "2023-11-09T22:52:49.283759Z"
    }
   },
   "id": "8f75a49aa3f896cd"
  },
  {
   "cell_type": "code",
   "execution_count": 13,
   "outputs": [
    {
     "data": {
      "text/plain": "                                Name  RankAlumni  RankHici  RankPUB  RankPCP\n0                 Harvard University           1         1        1        1\n1                Stanford University           7         2       16        4\n2            University of Cambridge           2        10       23        3\n3               Princeton University           3        30      126        2\n4               University of Oxford           6         5       12        5\n..                               ...         ...       ...      ...      ...\n404         Aix Marseille University         186        97       71      191\n405             Linkoping University         185       159      205      190\n406     University of Milano-Bicocca          97       184      175      104\n407       Palack媒 University Olomouc         154       287      355      159\n408  Gdansk University of Technology         347       287      367      351\n\n[409 rows x 5 columns]",
      "text/html": "<div>\n<style scoped>\n    .dataframe tbody tr th:only-of-type {\n        vertical-align: middle;\n    }\n\n    .dataframe tbody tr th {\n        vertical-align: top;\n    }\n\n    .dataframe thead th {\n        text-align: right;\n    }\n</style>\n<table border=\"1\" class=\"dataframe\">\n  <thead>\n    <tr style=\"text-align: right;\">\n      <th></th>\n      <th>Name</th>\n      <th>RankAlumni</th>\n      <th>RankHici</th>\n      <th>RankPUB</th>\n      <th>RankPCP</th>\n    </tr>\n  </thead>\n  <tbody>\n    <tr>\n      <th>0</th>\n      <td>Harvard University</td>\n      <td>1</td>\n      <td>1</td>\n      <td>1</td>\n      <td>1</td>\n    </tr>\n    <tr>\n      <th>1</th>\n      <td>Stanford University</td>\n      <td>7</td>\n      <td>2</td>\n      <td>16</td>\n      <td>4</td>\n    </tr>\n    <tr>\n      <th>2</th>\n      <td>University of Cambridge</td>\n      <td>2</td>\n      <td>10</td>\n      <td>23</td>\n      <td>3</td>\n    </tr>\n    <tr>\n      <th>3</th>\n      <td>Princeton University</td>\n      <td>3</td>\n      <td>30</td>\n      <td>126</td>\n      <td>2</td>\n    </tr>\n    <tr>\n      <th>4</th>\n      <td>University of Oxford</td>\n      <td>6</td>\n      <td>5</td>\n      <td>12</td>\n      <td>5</td>\n    </tr>\n    <tr>\n      <th>...</th>\n      <td>...</td>\n      <td>...</td>\n      <td>...</td>\n      <td>...</td>\n      <td>...</td>\n    </tr>\n    <tr>\n      <th>404</th>\n      <td>Aix Marseille University</td>\n      <td>186</td>\n      <td>97</td>\n      <td>71</td>\n      <td>191</td>\n    </tr>\n    <tr>\n      <th>405</th>\n      <td>Linkoping University</td>\n      <td>185</td>\n      <td>159</td>\n      <td>205</td>\n      <td>190</td>\n    </tr>\n    <tr>\n      <th>406</th>\n      <td>University of Milano-Bicocca</td>\n      <td>97</td>\n      <td>184</td>\n      <td>175</td>\n      <td>104</td>\n    </tr>\n    <tr>\n      <th>407</th>\n      <td>Palack媒 University Olomouc</td>\n      <td>154</td>\n      <td>287</td>\n      <td>355</td>\n      <td>159</td>\n    </tr>\n    <tr>\n      <th>408</th>\n      <td>Gdansk University of Technology</td>\n      <td>347</td>\n      <td>287</td>\n      <td>367</td>\n      <td>351</td>\n    </tr>\n  </tbody>\n</table>\n<p>409 rows × 5 columns</p>\n</div>"
     },
     "execution_count": 13,
     "metadata": {},
     "output_type": "execute_result"
    }
   ],
   "source": [
    "sample_rank2 = merged_rank.loc[:, ['Name','Alumni','Hici','PUB','PCP']]\n",
    "sample_rank2['RankAlumni'] = sample_rank2.Alumni.rank(method='average',ascending=False).astype(int)\n",
    "sample_rank2 = sample_rank2.drop('Alumni',axis=1) \n",
    "sample_rank2['RankHici'] = sample_rank2.Hici.rank(method='average',ascending=False).astype(int)\n",
    "sample_rank2 = sample_rank2.drop('Hici',axis=1) \n",
    "sample_rank2['RankPUB'] = sample_rank2.PUB.rank(method='average',ascending=False).astype(int)\n",
    "sample_rank2 = sample_rank2.drop('PUB',axis=1) \n",
    "sample_rank2['RankPCP'] = sample_rank2.PCP.rank(method='average',ascending=False).astype(int)\n",
    "sample_rank2 = sample_rank2.drop('PCP',axis=1) \n",
    "sample_rank2"
   ],
   "metadata": {
    "collapsed": false,
    "ExecuteTime": {
     "end_time": "2023-11-09T22:52:49.319340900Z",
     "start_time": "2023-11-09T22:52:49.295825800Z"
    }
   },
   "id": "31cdbd1acf6971d9"
  },
  {
   "cell_type": "code",
   "execution_count": 14,
   "outputs": [
    {
     "data": {
      "text/plain": "                                 RankAlumni  RankHici  RankPUB  RankPCP  \\\nName                                                                      \nHarvard University                        1         1        1        1   \nStanford University                       7         2       16        4   \nUniversity of Cambridge                   2        10       23        3   \nPrinceton University                      3        30      126        2   \nUniversity of Oxford                      6         5       12        5   \n...                                     ...       ...      ...      ...   \nAix Marseille University                186        97       71      191   \nLinkoping University                    185       159      205      190   \nUniversity of Milano-Bicocca             97       184      175      104   \nPalack媒 University Olomouc              154       287      355      159   \nGdansk University of Technology         347       287      367      351   \n\n                                 MedianRank  RankMJ  \nName                                                 \nHarvard University                      1.0       1  \nStanford University                     5.5       2  \nUniversity of Cambridge                 6.5       4  \nPrinceton University                   16.5      11  \nUniversity of Oxford                    5.5       3  \n...                                     ...     ...  \nAix Marseille University              141.5     135  \nLinkoping University                  187.5     185  \nUniversity of Milano-Bicocca          139.5     132  \nPalack媒 University Olomouc            223.0     231  \nGdansk University of Technology       349.0     362  \n\n[409 rows x 6 columns]",
      "text/html": "<div>\n<style scoped>\n    .dataframe tbody tr th:only-of-type {\n        vertical-align: middle;\n    }\n\n    .dataframe tbody tr th {\n        vertical-align: top;\n    }\n\n    .dataframe thead th {\n        text-align: right;\n    }\n</style>\n<table border=\"1\" class=\"dataframe\">\n  <thead>\n    <tr style=\"text-align: right;\">\n      <th></th>\n      <th>RankAlumni</th>\n      <th>RankHici</th>\n      <th>RankPUB</th>\n      <th>RankPCP</th>\n      <th>MedianRank</th>\n      <th>RankMJ</th>\n    </tr>\n    <tr>\n      <th>Name</th>\n      <th></th>\n      <th></th>\n      <th></th>\n      <th></th>\n      <th></th>\n      <th></th>\n    </tr>\n  </thead>\n  <tbody>\n    <tr>\n      <th>Harvard University</th>\n      <td>1</td>\n      <td>1</td>\n      <td>1</td>\n      <td>1</td>\n      <td>1.0</td>\n      <td>1</td>\n    </tr>\n    <tr>\n      <th>Stanford University</th>\n      <td>7</td>\n      <td>2</td>\n      <td>16</td>\n      <td>4</td>\n      <td>5.5</td>\n      <td>2</td>\n    </tr>\n    <tr>\n      <th>University of Cambridge</th>\n      <td>2</td>\n      <td>10</td>\n      <td>23</td>\n      <td>3</td>\n      <td>6.5</td>\n      <td>4</td>\n    </tr>\n    <tr>\n      <th>Princeton University</th>\n      <td>3</td>\n      <td>30</td>\n      <td>126</td>\n      <td>2</td>\n      <td>16.5</td>\n      <td>11</td>\n    </tr>\n    <tr>\n      <th>University of Oxford</th>\n      <td>6</td>\n      <td>5</td>\n      <td>12</td>\n      <td>5</td>\n      <td>5.5</td>\n      <td>3</td>\n    </tr>\n    <tr>\n      <th>...</th>\n      <td>...</td>\n      <td>...</td>\n      <td>...</td>\n      <td>...</td>\n      <td>...</td>\n      <td>...</td>\n    </tr>\n    <tr>\n      <th>Aix Marseille University</th>\n      <td>186</td>\n      <td>97</td>\n      <td>71</td>\n      <td>191</td>\n      <td>141.5</td>\n      <td>135</td>\n    </tr>\n    <tr>\n      <th>Linkoping University</th>\n      <td>185</td>\n      <td>159</td>\n      <td>205</td>\n      <td>190</td>\n      <td>187.5</td>\n      <td>185</td>\n    </tr>\n    <tr>\n      <th>University of Milano-Bicocca</th>\n      <td>97</td>\n      <td>184</td>\n      <td>175</td>\n      <td>104</td>\n      <td>139.5</td>\n      <td>132</td>\n    </tr>\n    <tr>\n      <th>Palack媒 University Olomouc</th>\n      <td>154</td>\n      <td>287</td>\n      <td>355</td>\n      <td>159</td>\n      <td>223.0</td>\n      <td>231</td>\n    </tr>\n    <tr>\n      <th>Gdansk University of Technology</th>\n      <td>347</td>\n      <td>287</td>\n      <td>367</td>\n      <td>351</td>\n      <td>349.0</td>\n      <td>362</td>\n    </tr>\n  </tbody>\n</table>\n<p>409 rows × 6 columns</p>\n</div>"
     },
     "execution_count": 14,
     "metadata": {},
     "output_type": "execute_result"
    }
   ],
   "source": [
    "df = MJ(sample_rank2)\n",
    "df"
   ],
   "metadata": {
    "collapsed": false,
    "ExecuteTime": {
     "end_time": "2023-11-09T22:52:50.008253200Z",
     "start_time": "2023-11-09T22:52:49.308826900Z"
    }
   },
   "id": "3e48a01e8efc1c44"
  }
 ],
 "metadata": {
  "kernelspec": {
   "display_name": "Python 3",
   "language": "python",
   "name": "python3"
  },
  "language_info": {
   "codemirror_mode": {
    "name": "ipython",
    "version": 2
   },
   "file_extension": ".py",
   "mimetype": "text/x-python",
   "name": "python",
   "nbconvert_exporter": "python",
   "pygments_lexer": "ipython2",
   "version": "2.7.6"
  }
 },
 "nbformat": 4,
 "nbformat_minor": 5
}
