{
 "cells": [
  {
   "cell_type": "code",
   "execution_count": 208,
   "id": "initial_id",
   "metadata": {
    "collapsed": true,
    "ExecuteTime": {
     "end_time": "2023-10-10T00:05:33.678055200Z",
     "start_time": "2023-10-10T00:05:33.649049300Z"
    }
   },
   "outputs": [],
   "source": [
    "import numpy as np\n",
    "import pandas as pd\n",
    "shanghai_ranking = pd.read_csv('data/Shanghai_ranking_data_2023.csv')\n",
    "THE_ranking = pd.read_csv('data/THE_ranking_data_2023.csv')\n",
    "qs_ranking = pd.read_csv('data/QS_ranking_data_2023.csv')"
   ]
  },
  {
   "cell_type": "code",
   "execution_count": 209,
   "outputs": [],
   "source": [
    "def merge(Rank1, Rank2, bias):\n",
    "    import Levenshtein\n",
    "    distance = np.empty((len(Rank1.Name),len(Rank2.Name)))\n",
    "    Rank1 = Rank1.rename(columns={'Name':'Name1'})\n",
    "    Rank2 = Rank2.rename(columns={'Name':'Name2'})\n",
    "    for index1, rank1 in enumerate(Rank1.Name1):\n",
    "        for index2, rank2 in enumerate(Rank2.Name2):\n",
    "            distance[index1, index2] = Levenshtein.distance(rank1, rank2)\n",
    "    merged_rank = pd.DataFrame({})\n",
    "    for i in range(distance.shape[0]):\n",
    "        j = np.argmin(distance[i, :])\n",
    "        if distance[i, j] == bias:\n",
    "            # print('i:',i,'j:',j)\n",
    "            merged_row = pd.concat([Rank1.iloc[i], Rank2.iloc[j]], axis=0)\n",
    "            merged_row = merged_row.to_frame().T\n",
    "            merged_rank = pd.concat([merged_rank, merged_row])\n",
    "    merged_rank = merged_rank.reset_index(drop=True)\n",
    "    return merged_rank\n",
    "\n",
    "def clean(merged_rank, row=[]):\n",
    "    for i in row:\n",
    "        merged_rank = merged_rank.drop(i)\n",
    "    merged_rank = merged_rank.drop('Name2',axis=1)\n",
    "    merged_rank = merged_rank.rename(columns={'Name1':'Name'}).reset_index(drop=True)\n",
    "    return merged_rank"
   ],
   "metadata": {
    "collapsed": false,
    "ExecuteTime": {
     "end_time": "2023-10-10T00:05:33.878736100Z",
     "start_time": "2023-10-10T00:05:33.871208100Z"
    }
   },
   "id": "b1dde857c424ba20"
  },
  {
   "cell_type": "code",
   "execution_count": 223,
   "outputs": [
    {
     "data": {
      "text/plain": "        Rank                                            Name Region  \\\n0          1                              Harvard University     us   \n1          2                             Stanford University     us   \n2          4                         University of Cambridge     gb   \n3          6                            Princeton University     us   \n4          7                            University of Oxford     gb   \n..       ...                                             ...    ...   \n47  901-1000                 Gdansk University of Technology     pl   \n48  901-1000                  Nicolaus Copernicus University     pl   \n49  901-1000                       Southern Cross University     au   \n50  901-1000  Tokyo University of Agriculture and Technology     jp   \n51  901-1000                 Universidade Federal de Pelotas     br   \n\n   Regional rank Total score Alumni  Award   Hici    N&S    PUB  ... cpf rank  \\\n0              1       100.0  100.0   92.6  100.0  100.0  100.0  ...        2   \n1              2        74.8   45.6   88.1   73.6   82.8   67.5  ...        9   \n2              1        67.9   78.9   90.8   45.1   61.0   63.6  ...       55   \n3              5        60.1   61.7  100.0   32.9   50.4   39.4  ...        3   \n4              2        59.5   49.9   59.7   51.4   57.6   71.4  ...       64   \n..           ...         ...    ...    ...    ...    ...    ...  ...      ...   \n47           5-9         NaN   12.9    0.0    6.6    0.0   20.5  ...     601+   \n48           5-9         NaN   10.1    0.0    0.0    5.2   23.0  ...     601+   \n49         31-34         NaN   21.9    0.0    0.0    7.3   15.1  ...      393   \n50         29-32         NaN   15.8    0.0    0.0    6.9   17.3  ...      335   \n51         15-18         NaN    8.8    0.0    6.6    1.4   19.2  ...     601+   \n\n   ifr score ifr rank isr score isr rank irn score irn rank ger score  \\\n0       76.9      228      66.9      212     100.0        1     100.0   \n1       99.8       74      60.3      235      96.3       55     100.0   \n2      100.0       60      96.3       70      99.5        6     100.0   \n3       26.0      515      62.2      226      78.5      340     100.0   \n4       98.8      101      98.4       54      99.9        3     100.0   \n..       ...      ...       ...      ...       ...      ...       ...   \n47       3.3     601+       5.3     601+      61.8      548       6.6   \n48       3.6     601+       3.9     601+      71.5      441       5.2   \n49      73.5      243      88.1      120      57.3     601+       7.1   \n50       5.6     601+       6.4     601+      46.2     601+       5.1   \n51       NaN      NaN       1.4     601+      23.3     601+       6.3   \n\n   ger rank score scaled  \n0         1         97.6  \n1         2         98.5  \n2         9         98.8  \n3         8         89.2  \n4         7         98.4  \n..      ...          ...  \n47     601+            -  \n48     601+            -  \n49     601+            -  \n50     601+            -  \n51     601+            -  \n\n[490 rows x 35 columns]",
      "text/html": "<div>\n<style scoped>\n    .dataframe tbody tr th:only-of-type {\n        vertical-align: middle;\n    }\n\n    .dataframe tbody tr th {\n        vertical-align: top;\n    }\n\n    .dataframe thead th {\n        text-align: right;\n    }\n</style>\n<table border=\"1\" class=\"dataframe\">\n  <thead>\n    <tr style=\"text-align: right;\">\n      <th></th>\n      <th>Rank</th>\n      <th>Name</th>\n      <th>Region</th>\n      <th>Regional rank</th>\n      <th>Total score</th>\n      <th>Alumni</th>\n      <th>Award</th>\n      <th>Hici</th>\n      <th>N&amp;S</th>\n      <th>PUB</th>\n      <th>...</th>\n      <th>cpf rank</th>\n      <th>ifr score</th>\n      <th>ifr rank</th>\n      <th>isr score</th>\n      <th>isr rank</th>\n      <th>irn score</th>\n      <th>irn rank</th>\n      <th>ger score</th>\n      <th>ger rank</th>\n      <th>score scaled</th>\n    </tr>\n  </thead>\n  <tbody>\n    <tr>\n      <th>0</th>\n      <td>1</td>\n      <td>Harvard University</td>\n      <td>us</td>\n      <td>1</td>\n      <td>100.0</td>\n      <td>100.0</td>\n      <td>92.6</td>\n      <td>100.0</td>\n      <td>100.0</td>\n      <td>100.0</td>\n      <td>...</td>\n      <td>2</td>\n      <td>76.9</td>\n      <td>228</td>\n      <td>66.9</td>\n      <td>212</td>\n      <td>100.0</td>\n      <td>1</td>\n      <td>100.0</td>\n      <td>1</td>\n      <td>97.6</td>\n    </tr>\n    <tr>\n      <th>1</th>\n      <td>2</td>\n      <td>Stanford University</td>\n      <td>us</td>\n      <td>2</td>\n      <td>74.8</td>\n      <td>45.6</td>\n      <td>88.1</td>\n      <td>73.6</td>\n      <td>82.8</td>\n      <td>67.5</td>\n      <td>...</td>\n      <td>9</td>\n      <td>99.8</td>\n      <td>74</td>\n      <td>60.3</td>\n      <td>235</td>\n      <td>96.3</td>\n      <td>55</td>\n      <td>100.0</td>\n      <td>2</td>\n      <td>98.5</td>\n    </tr>\n    <tr>\n      <th>2</th>\n      <td>4</td>\n      <td>University of Cambridge</td>\n      <td>gb</td>\n      <td>1</td>\n      <td>67.9</td>\n      <td>78.9</td>\n      <td>90.8</td>\n      <td>45.1</td>\n      <td>61.0</td>\n      <td>63.6</td>\n      <td>...</td>\n      <td>55</td>\n      <td>100.0</td>\n      <td>60</td>\n      <td>96.3</td>\n      <td>70</td>\n      <td>99.5</td>\n      <td>6</td>\n      <td>100.0</td>\n      <td>9</td>\n      <td>98.8</td>\n    </tr>\n    <tr>\n      <th>3</th>\n      <td>6</td>\n      <td>Princeton University</td>\n      <td>us</td>\n      <td>5</td>\n      <td>60.1</td>\n      <td>61.7</td>\n      <td>100.0</td>\n      <td>32.9</td>\n      <td>50.4</td>\n      <td>39.4</td>\n      <td>...</td>\n      <td>3</td>\n      <td>26.0</td>\n      <td>515</td>\n      <td>62.2</td>\n      <td>226</td>\n      <td>78.5</td>\n      <td>340</td>\n      <td>100.0</td>\n      <td>8</td>\n      <td>89.2</td>\n    </tr>\n    <tr>\n      <th>4</th>\n      <td>7</td>\n      <td>University of Oxford</td>\n      <td>gb</td>\n      <td>2</td>\n      <td>59.5</td>\n      <td>49.9</td>\n      <td>59.7</td>\n      <td>51.4</td>\n      <td>57.6</td>\n      <td>71.4</td>\n      <td>...</td>\n      <td>64</td>\n      <td>98.8</td>\n      <td>101</td>\n      <td>98.4</td>\n      <td>54</td>\n      <td>99.9</td>\n      <td>3</td>\n      <td>100.0</td>\n      <td>7</td>\n      <td>98.4</td>\n    </tr>\n    <tr>\n      <th>...</th>\n      <td>...</td>\n      <td>...</td>\n      <td>...</td>\n      <td>...</td>\n      <td>...</td>\n      <td>...</td>\n      <td>...</td>\n      <td>...</td>\n      <td>...</td>\n      <td>...</td>\n      <td>...</td>\n      <td>...</td>\n      <td>...</td>\n      <td>...</td>\n      <td>...</td>\n      <td>...</td>\n      <td>...</td>\n      <td>...</td>\n      <td>...</td>\n      <td>...</td>\n      <td>...</td>\n    </tr>\n    <tr>\n      <th>47</th>\n      <td>901-1000</td>\n      <td>Gdansk University of Technology</td>\n      <td>pl</td>\n      <td>5-9</td>\n      <td>NaN</td>\n      <td>12.9</td>\n      <td>0.0</td>\n      <td>6.6</td>\n      <td>0.0</td>\n      <td>20.5</td>\n      <td>...</td>\n      <td>601+</td>\n      <td>3.3</td>\n      <td>601+</td>\n      <td>5.3</td>\n      <td>601+</td>\n      <td>61.8</td>\n      <td>548</td>\n      <td>6.6</td>\n      <td>601+</td>\n      <td>-</td>\n    </tr>\n    <tr>\n      <th>48</th>\n      <td>901-1000</td>\n      <td>Nicolaus Copernicus University</td>\n      <td>pl</td>\n      <td>5-9</td>\n      <td>NaN</td>\n      <td>10.1</td>\n      <td>0.0</td>\n      <td>0.0</td>\n      <td>5.2</td>\n      <td>23.0</td>\n      <td>...</td>\n      <td>601+</td>\n      <td>3.6</td>\n      <td>601+</td>\n      <td>3.9</td>\n      <td>601+</td>\n      <td>71.5</td>\n      <td>441</td>\n      <td>5.2</td>\n      <td>601+</td>\n      <td>-</td>\n    </tr>\n    <tr>\n      <th>49</th>\n      <td>901-1000</td>\n      <td>Southern Cross University</td>\n      <td>au</td>\n      <td>31-34</td>\n      <td>NaN</td>\n      <td>21.9</td>\n      <td>0.0</td>\n      <td>0.0</td>\n      <td>7.3</td>\n      <td>15.1</td>\n      <td>...</td>\n      <td>393</td>\n      <td>73.5</td>\n      <td>243</td>\n      <td>88.1</td>\n      <td>120</td>\n      <td>57.3</td>\n      <td>601+</td>\n      <td>7.1</td>\n      <td>601+</td>\n      <td>-</td>\n    </tr>\n    <tr>\n      <th>50</th>\n      <td>901-1000</td>\n      <td>Tokyo University of Agriculture and Technology</td>\n      <td>jp</td>\n      <td>29-32</td>\n      <td>NaN</td>\n      <td>15.8</td>\n      <td>0.0</td>\n      <td>0.0</td>\n      <td>6.9</td>\n      <td>17.3</td>\n      <td>...</td>\n      <td>335</td>\n      <td>5.6</td>\n      <td>601+</td>\n      <td>6.4</td>\n      <td>601+</td>\n      <td>46.2</td>\n      <td>601+</td>\n      <td>5.1</td>\n      <td>601+</td>\n      <td>-</td>\n    </tr>\n    <tr>\n      <th>51</th>\n      <td>901-1000</td>\n      <td>Universidade Federal de Pelotas</td>\n      <td>br</td>\n      <td>15-18</td>\n      <td>NaN</td>\n      <td>8.8</td>\n      <td>0.0</td>\n      <td>6.6</td>\n      <td>1.4</td>\n      <td>19.2</td>\n      <td>...</td>\n      <td>601+</td>\n      <td>NaN</td>\n      <td>NaN</td>\n      <td>1.4</td>\n      <td>601+</td>\n      <td>23.3</td>\n      <td>601+</td>\n      <td>6.3</td>\n      <td>601+</td>\n      <td>-</td>\n    </tr>\n  </tbody>\n</table>\n<p>490 rows × 35 columns</p>\n</div>"
     },
     "execution_count": 223,
     "metadata": {},
     "output_type": "execute_result"
    }
   ],
   "source": [
    "merged_rank1 = merge(shanghai_ranking,qs_ranking,0)\n",
    "merged_rank1 = clean(merged_rank1)\n",
    "merged_rank2 = merge(shanghai_ranking,qs_ranking,1)\n",
    "merged_rank2 = clean(merged_rank2)\n",
    "merged_rank = pd.concat([merged_rank1,merged_rank2])\n",
    "merged_rank"
   ],
   "metadata": {
    "collapsed": false,
    "ExecuteTime": {
     "end_time": "2023-10-10T00:14:03.594870800Z",
     "start_time": "2023-10-10T00:14:01.622904200Z"
    }
   },
   "id": "2afebe2642b26b45"
  },
  {
   "cell_type": "code",
   "execution_count": 230,
   "outputs": [
    {
     "data": {
      "text/plain": "        Rank                             Name Region Regional rank  \\\n0          1               Harvard University     us             1   \n1          2              Stanford University     us             2   \n2          4          University of Cambridge     gb             1   \n3          6             Princeton University     us             5   \n4          7             University of Oxford     gb             2   \n..       ...                              ...    ...           ...   \n4    101-150        Xi'an Jiaotong University     cn         11-23   \n5    151-200         Aix Marseille University     fr           6-8   \n6    301-400             Linkoping University     se           7-8   \n7    301-400     University of Milano-Bicocca     it          9-10   \n8   901-1000  Gdansk University of Technology     pl           5-9   \n\n   Total score Alumni  Award   Hici    N&S    PUB  ... No. of FTE students  \\\n0        100.0  100.0   92.6  100.0  100.0  100.0  ...              21,887   \n1         74.8   45.6   88.1   73.6   82.8   67.5  ...              16,164   \n2         67.9   78.9   90.8   45.1   61.0   63.6  ...              20,185   \n3         60.1   61.7  100.0   32.9   50.4   39.4  ...               8,279   \n4         59.5   49.9   59.7   51.4   57.6   71.4  ...              20,965   \n..         ...    ...    ...    ...    ...    ...  ...                 ...   \n4          NaN   20.3    0.0   18.6   16.4   70.6  ...              44,942   \n5          NaN   19.0    0.0   18.6   21.5   48.1  ...              70,054   \n6          NaN   19.1    0.0   13.2   10.6   32.0  ...              15,026   \n7          NaN   23.1    0.0   11.4    7.2   34.2  ...              29,057   \n8          NaN   12.9    0.0    6.6    0.0   20.5  ...              14,816   \n\n   No. of students per staff International Students Female:Male Ratio  \\\n0                        9.6                    25%           50 : 50   \n1                        7.1                    24%           46 : 54   \n2                       11.3                    39%           47 : 53   \n3                        8.0                    23%           46 : 54   \n4                       10.6                    42%           48 : 52   \n..                       ...                    ...               ...   \n4                       14.1                     6%           35 : 65   \n5                       17.4                    13%           60 : 40   \n6                       14.4                    15%           52 : 48   \n7                       29.2                     5%           62 : 38   \n8                       19.9                     5%           38 : 62   \n\n      Overall Teaching Research Environment Research Quality Industry  \\\n0        95.2     94.8                 99.0             99.3     49.5   \n1        94.8     94.2                 96.7             99.8     65.0   \n2        94.8     90.9                 99.5             97.0     54.2   \n3        92.4     87.6                 95.9             99.1     66.0   \n4        96.4     92.3                 99.7             99.0     74.9   \n..        ...      ...                  ...              ...      ...   \n4   39.3–42.0     36.4                 42.7             47.1     75.0   \n5   47.0–48.7     40.5                 24.9             72.3     41.5   \n6   48.9–51.1     23.5                 39.8             78.0     61.8   \n7   47.0–48.7     24.9                 25.9             93.6     40.8   \n8   18.4–24.3     17.7                 15.1             33.3     45.0   \n\n   International Outlook  \n0                   80.5  \n1                   79.8  \n2                   95.8  \n3                   80.3  \n4                   96.2  \n..                   ...  \n4                   29.4  \n5                   63.2  \n6                   70.8  \n7                   43.0  \n8                   29.9  \n\n[411 rows x 57 columns]",
      "text/html": "<div>\n<style scoped>\n    .dataframe tbody tr th:only-of-type {\n        vertical-align: middle;\n    }\n\n    .dataframe tbody tr th {\n        vertical-align: top;\n    }\n\n    .dataframe thead th {\n        text-align: right;\n    }\n</style>\n<table border=\"1\" class=\"dataframe\">\n  <thead>\n    <tr style=\"text-align: right;\">\n      <th></th>\n      <th>Rank</th>\n      <th>Name</th>\n      <th>Region</th>\n      <th>Regional rank</th>\n      <th>Total score</th>\n      <th>Alumni</th>\n      <th>Award</th>\n      <th>Hici</th>\n      <th>N&amp;S</th>\n      <th>PUB</th>\n      <th>...</th>\n      <th>No. of FTE students</th>\n      <th>No. of students per staff</th>\n      <th>International Students</th>\n      <th>Female:Male Ratio</th>\n      <th>Overall</th>\n      <th>Teaching</th>\n      <th>Research Environment</th>\n      <th>Research Quality</th>\n      <th>Industry</th>\n      <th>International Outlook</th>\n    </tr>\n  </thead>\n  <tbody>\n    <tr>\n      <th>0</th>\n      <td>1</td>\n      <td>Harvard University</td>\n      <td>us</td>\n      <td>1</td>\n      <td>100.0</td>\n      <td>100.0</td>\n      <td>92.6</td>\n      <td>100.0</td>\n      <td>100.0</td>\n      <td>100.0</td>\n      <td>...</td>\n      <td>21,887</td>\n      <td>9.6</td>\n      <td>25%</td>\n      <td>50 : 50</td>\n      <td>95.2</td>\n      <td>94.8</td>\n      <td>99.0</td>\n      <td>99.3</td>\n      <td>49.5</td>\n      <td>80.5</td>\n    </tr>\n    <tr>\n      <th>1</th>\n      <td>2</td>\n      <td>Stanford University</td>\n      <td>us</td>\n      <td>2</td>\n      <td>74.8</td>\n      <td>45.6</td>\n      <td>88.1</td>\n      <td>73.6</td>\n      <td>82.8</td>\n      <td>67.5</td>\n      <td>...</td>\n      <td>16,164</td>\n      <td>7.1</td>\n      <td>24%</td>\n      <td>46 : 54</td>\n      <td>94.8</td>\n      <td>94.2</td>\n      <td>96.7</td>\n      <td>99.8</td>\n      <td>65.0</td>\n      <td>79.8</td>\n    </tr>\n    <tr>\n      <th>2</th>\n      <td>4</td>\n      <td>University of Cambridge</td>\n      <td>gb</td>\n      <td>1</td>\n      <td>67.9</td>\n      <td>78.9</td>\n      <td>90.8</td>\n      <td>45.1</td>\n      <td>61.0</td>\n      <td>63.6</td>\n      <td>...</td>\n      <td>20,185</td>\n      <td>11.3</td>\n      <td>39%</td>\n      <td>47 : 53</td>\n      <td>94.8</td>\n      <td>90.9</td>\n      <td>99.5</td>\n      <td>97.0</td>\n      <td>54.2</td>\n      <td>95.8</td>\n    </tr>\n    <tr>\n      <th>3</th>\n      <td>6</td>\n      <td>Princeton University</td>\n      <td>us</td>\n      <td>5</td>\n      <td>60.1</td>\n      <td>61.7</td>\n      <td>100.0</td>\n      <td>32.9</td>\n      <td>50.4</td>\n      <td>39.4</td>\n      <td>...</td>\n      <td>8,279</td>\n      <td>8.0</td>\n      <td>23%</td>\n      <td>46 : 54</td>\n      <td>92.4</td>\n      <td>87.6</td>\n      <td>95.9</td>\n      <td>99.1</td>\n      <td>66.0</td>\n      <td>80.3</td>\n    </tr>\n    <tr>\n      <th>4</th>\n      <td>7</td>\n      <td>University of Oxford</td>\n      <td>gb</td>\n      <td>2</td>\n      <td>59.5</td>\n      <td>49.9</td>\n      <td>59.7</td>\n      <td>51.4</td>\n      <td>57.6</td>\n      <td>71.4</td>\n      <td>...</td>\n      <td>20,965</td>\n      <td>10.6</td>\n      <td>42%</td>\n      <td>48 : 52</td>\n      <td>96.4</td>\n      <td>92.3</td>\n      <td>99.7</td>\n      <td>99.0</td>\n      <td>74.9</td>\n      <td>96.2</td>\n    </tr>\n    <tr>\n      <th>...</th>\n      <td>...</td>\n      <td>...</td>\n      <td>...</td>\n      <td>...</td>\n      <td>...</td>\n      <td>...</td>\n      <td>...</td>\n      <td>...</td>\n      <td>...</td>\n      <td>...</td>\n      <td>...</td>\n      <td>...</td>\n      <td>...</td>\n      <td>...</td>\n      <td>...</td>\n      <td>...</td>\n      <td>...</td>\n      <td>...</td>\n      <td>...</td>\n      <td>...</td>\n      <td>...</td>\n    </tr>\n    <tr>\n      <th>4</th>\n      <td>101-150</td>\n      <td>Xi'an Jiaotong University</td>\n      <td>cn</td>\n      <td>11-23</td>\n      <td>NaN</td>\n      <td>20.3</td>\n      <td>0.0</td>\n      <td>18.6</td>\n      <td>16.4</td>\n      <td>70.6</td>\n      <td>...</td>\n      <td>44,942</td>\n      <td>14.1</td>\n      <td>6%</td>\n      <td>35 : 65</td>\n      <td>39.3–42.0</td>\n      <td>36.4</td>\n      <td>42.7</td>\n      <td>47.1</td>\n      <td>75.0</td>\n      <td>29.4</td>\n    </tr>\n    <tr>\n      <th>5</th>\n      <td>151-200</td>\n      <td>Aix Marseille University</td>\n      <td>fr</td>\n      <td>6-8</td>\n      <td>NaN</td>\n      <td>19.0</td>\n      <td>0.0</td>\n      <td>18.6</td>\n      <td>21.5</td>\n      <td>48.1</td>\n      <td>...</td>\n      <td>70,054</td>\n      <td>17.4</td>\n      <td>13%</td>\n      <td>60 : 40</td>\n      <td>47.0–48.7</td>\n      <td>40.5</td>\n      <td>24.9</td>\n      <td>72.3</td>\n      <td>41.5</td>\n      <td>63.2</td>\n    </tr>\n    <tr>\n      <th>6</th>\n      <td>301-400</td>\n      <td>Linkoping University</td>\n      <td>se</td>\n      <td>7-8</td>\n      <td>NaN</td>\n      <td>19.1</td>\n      <td>0.0</td>\n      <td>13.2</td>\n      <td>10.6</td>\n      <td>32.0</td>\n      <td>...</td>\n      <td>15,026</td>\n      <td>14.4</td>\n      <td>15%</td>\n      <td>52 : 48</td>\n      <td>48.9–51.1</td>\n      <td>23.5</td>\n      <td>39.8</td>\n      <td>78.0</td>\n      <td>61.8</td>\n      <td>70.8</td>\n    </tr>\n    <tr>\n      <th>7</th>\n      <td>301-400</td>\n      <td>University of Milano-Bicocca</td>\n      <td>it</td>\n      <td>9-10</td>\n      <td>NaN</td>\n      <td>23.1</td>\n      <td>0.0</td>\n      <td>11.4</td>\n      <td>7.2</td>\n      <td>34.2</td>\n      <td>...</td>\n      <td>29,057</td>\n      <td>29.2</td>\n      <td>5%</td>\n      <td>62 : 38</td>\n      <td>47.0–48.7</td>\n      <td>24.9</td>\n      <td>25.9</td>\n      <td>93.6</td>\n      <td>40.8</td>\n      <td>43.0</td>\n    </tr>\n    <tr>\n      <th>8</th>\n      <td>901-1000</td>\n      <td>Gdansk University of Technology</td>\n      <td>pl</td>\n      <td>5-9</td>\n      <td>NaN</td>\n      <td>12.9</td>\n      <td>0.0</td>\n      <td>6.6</td>\n      <td>0.0</td>\n      <td>20.5</td>\n      <td>...</td>\n      <td>14,816</td>\n      <td>19.9</td>\n      <td>5%</td>\n      <td>38 : 62</td>\n      <td>18.4–24.3</td>\n      <td>17.7</td>\n      <td>15.1</td>\n      <td>33.3</td>\n      <td>45.0</td>\n      <td>29.9</td>\n    </tr>\n  </tbody>\n</table>\n<p>411 rows × 57 columns</p>\n</div>"
     },
     "execution_count": 230,
     "metadata": {},
     "output_type": "execute_result"
    }
   ],
   "source": [
    "merged_rank1 = merge(merged_rank,THE_ranking,0)\n",
    "merged_rank1 = clean(merged_rank1)\n",
    "merged_rank2 = merge(merged_rank,THE_ranking,1)\n",
    "merged_rank2 = clean(merged_rank2)\n",
    "merged_rank = pd.concat([merged_rank1,merged_rank2])\n",
    "merged_rank"
   ],
   "metadata": {
    "collapsed": false,
    "ExecuteTime": {
     "end_time": "2023-10-10T00:16:02.652694500Z",
     "start_time": "2023-10-10T00:16:01.304196400Z"
    }
   },
   "id": "20d98e2bff672afb"
  },
  {
   "cell_type": "code",
   "execution_count": null,
   "outputs": [],
   "source": [],
   "metadata": {
    "collapsed": false
   },
   "id": "8ea4f97d617e558f"
  }
 ],
 "metadata": {
  "kernelspec": {
   "display_name": "Python 3",
   "language": "python",
   "name": "python3"
  },
  "language_info": {
   "codemirror_mode": {
    "name": "ipython",
    "version": 2
   },
   "file_extension": ".py",
   "mimetype": "text/x-python",
   "name": "python",
   "nbconvert_exporter": "python",
   "pygments_lexer": "ipython2",
   "version": "2.7.6"
  }
 },
 "nbformat": 4,
 "nbformat_minor": 5
}
