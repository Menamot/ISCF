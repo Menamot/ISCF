{
 "cells": [
  {
   "cell_type": "markdown",
   "source": [
    "# 1. Merge data"
   ],
   "metadata": {
    "collapsed": false
   },
   "id": "55a8d96822e560ec"
  },
  {
   "cell_type": "code",
   "execution_count": 1,
   "id": "initial_id",
   "metadata": {
    "collapsed": true,
    "ExecuteTime": {
     "end_time": "2023-11-28T11:25:15.198320700Z",
     "start_time": "2023-11-28T11:25:15.178957800Z"
    }
   },
   "outputs": [],
   "source": [
    "import numpy as np\n",
    "import pandas as pd\n",
    "from scipy.stats import kendalltau\n",
    "import seaborn as sns\n",
    "shanghai_ranking = pd.read_csv('data/Shanghai_ranking_data_2023.csv')\n",
    "shanghai_ranking.Name = shanghai_ranking.Name.astype(str).str.strip()\n",
    "THE_ranking = pd.read_csv('data/THE_ranking_data_2023.csv')\n",
    "THE_ranking.Name = THE_ranking.Name.astype(str).str.strip()\n",
    "qs_ranking = pd.read_csv('data/QS_ranking_data_2023.csv')\n",
    "qs_ranking.Name = qs_ranking.Name.astype(str).str.strip()"
   ]
  },
  {
   "cell_type": "code",
   "execution_count": 2,
   "outputs": [],
   "source": [
    "# THE_ranking = pd.read_csv('data/THE_ranking_data.csv')\n",
    "# for index, item in enumerate(THE_ranking.RankTHE):\n",
    "#     item = item.replace('–','-')\n",
    "#     THE_ranking.at[index,'RankTHE'] = item\n",
    "# THE_ranking.to_csv('output.csv')"
   ],
   "metadata": {
    "collapsed": false,
    "ExecuteTime": {
     "end_time": "2023-11-28T11:25:15.199325500Z",
     "start_time": "2023-11-28T11:25:15.197422100Z"
    }
   },
   "id": "8e730ef1cc8c0b3e"
  },
  {
   "cell_type": "code",
   "execution_count": 3,
   "outputs": [
    {
     "data": {
      "text/plain": "      Unnamed: 0 RankTHE                                          Name  \\\n0              0       1                          University of Oxford   \n1              1       2                            Harvard University   \n2              2      =3                       University of Cambridge   \n3              3      =3                           Stanford University   \n4              4       5         Massachusetts Institute of Technology   \n...          ...     ...                                           ...   \n1653        1653   1501+                  West University of Timişoara   \n1654        1654   1501+  Wrocław University of Science and Technology   \n1655        1655   1501+                          Yamaguchi University   \n1656        1656   1501+                            Yanshan University   \n1657        1657   1501+                           Yeditepe University   \n\n     No. of FTE students  No. of students per staff International Students  \\\n0                 20,965                       10.6                    42%   \n1                 21,887                        9.6                    25%   \n2                 20,185                       11.3                    39%   \n3                 16,164                        7.1                    24%   \n4                 11,415                        8.2                    33%   \n...                  ...                        ...                    ...   \n1653              14,527                       24.6                     6%   \n1654              23,657                       20.3                     6%   \n1655              10,724                       11.1                     7%   \n1656              38,649                       13.2                     1%   \n1657              17,038                       28.2                     5%   \n\n     Female:Male Ratio    Overall  Teaching  Research Environment  \\\n0              48 : 52       96.4      92.3                  99.7   \n1              50 : 50       95.2      94.8                  99.0   \n2              47 : 53       94.8      90.9                  99.5   \n3              46 : 54       94.8      94.2                  96.7   \n4              40 : 60       94.2      90.7                  93.6   \n...                ...        ...       ...                   ...   \n1653           66 : 34  10.4–18.3      18.7                  13.4   \n1654           35 : 65  10.4–18.3      17.9                  16.0   \n1655           38 : 62  10.4–18.3      21.3                  12.3   \n1656           39 : 61  10.4–18.3      17.2                  10.9   \n1657           55 : 45  10.4–18.3      18.8                  12.2   \n\n      Research Quality  Industry  International Outlook  \n0                 99.0      74.9                   96.2  \n1                 99.3      49.5                   80.5  \n2                 97.0      54.2                   95.8  \n3                 99.8      65.0                   79.8  \n4                 99.8      90.9                   89.3  \n...                ...       ...                    ...  \n1653              16.8      37.7                   28.7  \n1654              14.9      45.5                   27.3  \n1655              13.9      43.8                   30.4  \n1656              18.3      46.9                   17.0  \n1657              10.5      65.7                   29.6  \n\n[1658 rows x 13 columns]",
      "text/html": "<div>\n<style scoped>\n    .dataframe tbody tr th:only-of-type {\n        vertical-align: middle;\n    }\n\n    .dataframe tbody tr th {\n        vertical-align: top;\n    }\n\n    .dataframe thead th {\n        text-align: right;\n    }\n</style>\n<table border=\"1\" class=\"dataframe\">\n  <thead>\n    <tr style=\"text-align: right;\">\n      <th></th>\n      <th>Unnamed: 0</th>\n      <th>RankTHE</th>\n      <th>Name</th>\n      <th>No. of FTE students</th>\n      <th>No. of students per staff</th>\n      <th>International Students</th>\n      <th>Female:Male Ratio</th>\n      <th>Overall</th>\n      <th>Teaching</th>\n      <th>Research Environment</th>\n      <th>Research Quality</th>\n      <th>Industry</th>\n      <th>International Outlook</th>\n    </tr>\n  </thead>\n  <tbody>\n    <tr>\n      <th>0</th>\n      <td>0</td>\n      <td>1</td>\n      <td>University of Oxford</td>\n      <td>20,965</td>\n      <td>10.6</td>\n      <td>42%</td>\n      <td>48 : 52</td>\n      <td>96.4</td>\n      <td>92.3</td>\n      <td>99.7</td>\n      <td>99.0</td>\n      <td>74.9</td>\n      <td>96.2</td>\n    </tr>\n    <tr>\n      <th>1</th>\n      <td>1</td>\n      <td>2</td>\n      <td>Harvard University</td>\n      <td>21,887</td>\n      <td>9.6</td>\n      <td>25%</td>\n      <td>50 : 50</td>\n      <td>95.2</td>\n      <td>94.8</td>\n      <td>99.0</td>\n      <td>99.3</td>\n      <td>49.5</td>\n      <td>80.5</td>\n    </tr>\n    <tr>\n      <th>2</th>\n      <td>2</td>\n      <td>=3</td>\n      <td>University of Cambridge</td>\n      <td>20,185</td>\n      <td>11.3</td>\n      <td>39%</td>\n      <td>47 : 53</td>\n      <td>94.8</td>\n      <td>90.9</td>\n      <td>99.5</td>\n      <td>97.0</td>\n      <td>54.2</td>\n      <td>95.8</td>\n    </tr>\n    <tr>\n      <th>3</th>\n      <td>3</td>\n      <td>=3</td>\n      <td>Stanford University</td>\n      <td>16,164</td>\n      <td>7.1</td>\n      <td>24%</td>\n      <td>46 : 54</td>\n      <td>94.8</td>\n      <td>94.2</td>\n      <td>96.7</td>\n      <td>99.8</td>\n      <td>65.0</td>\n      <td>79.8</td>\n    </tr>\n    <tr>\n      <th>4</th>\n      <td>4</td>\n      <td>5</td>\n      <td>Massachusetts Institute of Technology</td>\n      <td>11,415</td>\n      <td>8.2</td>\n      <td>33%</td>\n      <td>40 : 60</td>\n      <td>94.2</td>\n      <td>90.7</td>\n      <td>93.6</td>\n      <td>99.8</td>\n      <td>90.9</td>\n      <td>89.3</td>\n    </tr>\n    <tr>\n      <th>...</th>\n      <td>...</td>\n      <td>...</td>\n      <td>...</td>\n      <td>...</td>\n      <td>...</td>\n      <td>...</td>\n      <td>...</td>\n      <td>...</td>\n      <td>...</td>\n      <td>...</td>\n      <td>...</td>\n      <td>...</td>\n      <td>...</td>\n    </tr>\n    <tr>\n      <th>1653</th>\n      <td>1653</td>\n      <td>1501+</td>\n      <td>West University of Timişoara</td>\n      <td>14,527</td>\n      <td>24.6</td>\n      <td>6%</td>\n      <td>66 : 34</td>\n      <td>10.4–18.3</td>\n      <td>18.7</td>\n      <td>13.4</td>\n      <td>16.8</td>\n      <td>37.7</td>\n      <td>28.7</td>\n    </tr>\n    <tr>\n      <th>1654</th>\n      <td>1654</td>\n      <td>1501+</td>\n      <td>Wrocław University of Science and Technology</td>\n      <td>23,657</td>\n      <td>20.3</td>\n      <td>6%</td>\n      <td>35 : 65</td>\n      <td>10.4–18.3</td>\n      <td>17.9</td>\n      <td>16.0</td>\n      <td>14.9</td>\n      <td>45.5</td>\n      <td>27.3</td>\n    </tr>\n    <tr>\n      <th>1655</th>\n      <td>1655</td>\n      <td>1501+</td>\n      <td>Yamaguchi University</td>\n      <td>10,724</td>\n      <td>11.1</td>\n      <td>7%</td>\n      <td>38 : 62</td>\n      <td>10.4–18.3</td>\n      <td>21.3</td>\n      <td>12.3</td>\n      <td>13.9</td>\n      <td>43.8</td>\n      <td>30.4</td>\n    </tr>\n    <tr>\n      <th>1656</th>\n      <td>1656</td>\n      <td>1501+</td>\n      <td>Yanshan University</td>\n      <td>38,649</td>\n      <td>13.2</td>\n      <td>1%</td>\n      <td>39 : 61</td>\n      <td>10.4–18.3</td>\n      <td>17.2</td>\n      <td>10.9</td>\n      <td>18.3</td>\n      <td>46.9</td>\n      <td>17.0</td>\n    </tr>\n    <tr>\n      <th>1657</th>\n      <td>1657</td>\n      <td>1501+</td>\n      <td>Yeditepe University</td>\n      <td>17,038</td>\n      <td>28.2</td>\n      <td>5%</td>\n      <td>55 : 45</td>\n      <td>10.4–18.3</td>\n      <td>18.8</td>\n      <td>12.2</td>\n      <td>10.5</td>\n      <td>65.7</td>\n      <td>29.6</td>\n    </tr>\n  </tbody>\n</table>\n<p>1658 rows × 13 columns</p>\n</div>"
     },
     "execution_count": 3,
     "metadata": {},
     "output_type": "execute_result"
    }
   ],
   "source": [
    "THE_ranking=THE_ranking.drop(np.where(THE_ranking.RankTHE=='Reporter')[0])\n",
    "THE_ranking"
   ],
   "metadata": {
    "collapsed": false,
    "ExecuteTime": {
     "end_time": "2023-11-28T11:25:15.231607400Z",
     "start_time": "2023-11-28T11:25:15.200326200Z"
    }
   },
   "id": "fda6967cc171ad72"
  },
  {
   "cell_type": "code",
   "execution_count": 4,
   "outputs": [],
   "source": [
    "def merge(Rank1:pd.DataFrame, Rank2:pd.DataFrame, bias) -> pd.DataFrame:\n",
    "    import Levenshtein\n",
    "    distance = np.empty((len(Rank1.Name),len(Rank2.Name)))\n",
    "    Rank1 = Rank1.rename(columns={'Name':'Name1'})\n",
    "    Rank2 = Rank2.rename(columns={'Name':'Name2'})\n",
    "    for index1, rank1 in enumerate(Rank1.Name1):\n",
    "        for index2, rank2 in enumerate(Rank2.Name2):\n",
    "            distance[index1, index2] = Levenshtein.distance(rank1, rank2)\n",
    "    merged_rank = pd.DataFrame({})\n",
    "    for i in range(distance.shape[0]):\n",
    "        j = np.argmin(distance[i, :])\n",
    "        if distance[i, j] == bias:\n",
    "            # print('i:',repr(Rank1.Name1[i]),'j:',repr(Rank2.Name2[j]),'distance:',distance[i, j])\n",
    "            merged_row = pd.concat([Rank1.iloc[i], Rank2.iloc[j]], axis=0)\n",
    "            merged_row = merged_row.to_frame().T\n",
    "            merged_rank = pd.concat([merged_rank, merged_row])\n",
    "    merged_rank = merged_rank.reset_index(drop=True)\n",
    "    return merged_rank\n",
    "\n",
    "def clean(merged_rank:pd.DataFrame, row=[]) -> pd.DataFrame:\n",
    "    for i in row:\n",
    "        merged_rank = merged_rank.drop(i)\n",
    "    merged_rank = merged_rank.drop('Name2',axis=1)\n",
    "    merged_rank = merged_rank.rename(columns={'Name1':'Name'}).reset_index(drop=True)\n",
    "    return merged_rank"
   ],
   "metadata": {
    "collapsed": false,
    "ExecuteTime": {
     "end_time": "2023-11-28T11:25:15.232608200Z",
     "start_time": "2023-11-28T11:25:15.223960300Z"
    }
   },
   "id": "b1dde857c424ba20"
  },
  {
   "cell_type": "code",
   "execution_count": 5,
   "outputs": [],
   "source": [
    "merged_rank1 = merge(shanghai_ranking,qs_ranking,0)\n",
    "merged_rank1 = clean(merged_rank1)\n",
    "merged_rank2 = merge(shanghai_ranking,qs_ranking,1)\n",
    "merged_rank2 = clean(merged_rank2)\n",
    "merged_rank = pd.concat([merged_rank1,merged_rank2])\n",
    "merged_rank = merged_rank.reset_index(drop=True)"
   ],
   "metadata": {
    "collapsed": false,
    "ExecuteTime": {
     "end_time": "2023-11-28T11:25:16.611417Z",
     "start_time": "2023-11-28T11:25:15.227608200Z"
    }
   },
   "id": "2afebe2642b26b45"
  },
  {
   "cell_type": "code",
   "execution_count": 6,
   "outputs": [
    {
     "data": {
      "text/plain": "    RankShangHai                          Name Region Regional rank  \\\n0              1            Harvard University     us             1   \n1              2           Stanford University     us             2   \n2              4       University of Cambridge     gb             1   \n3              6          Princeton University     us             5   \n4              7          University of Oxford     gb             2   \n..           ...                           ...    ...           ...   \n330      301-400  University of Milano-Bicocca     it          9-10   \n331      601-700               Umea University     se            11   \n332      101-150     Xi'an Jiaotong University     cn         11-23   \n333      151-200      Aix Marseille University     fr           6-8   \n334      301-400          Linkoping University     se           7-8   \n\n    Total score Alumni  Award   Hici    N&S    PUB  ... No. of FTE students  \\\n0         100.0  100.0   92.6  100.0  100.0  100.0  ...              21,887   \n1          74.8   45.6   88.1   73.6   82.8   67.5  ...              16,164   \n2          67.9   78.9   90.8   45.1   61.0   63.6  ...              20,185   \n3          60.1   61.7  100.0   32.9   50.4   39.4  ...               8,279   \n4          59.5   49.9   59.7   51.4   57.6   71.4  ...              20,965   \n..          ...    ...    ...    ...    ...    ...  ...                 ...   \n330         NaN   23.1    0.0   11.4    7.2   34.2  ...              29,057   \n331         NaN   15.5    0.0    0.0    9.7   29.1  ...              18,218   \n332         NaN   20.3    0.0   18.6   16.4   70.6  ...              44,942   \n333         NaN   19.0    0.0   18.6   21.5   48.1  ...              70,054   \n334         NaN   19.1    0.0   13.2   10.6   32.0  ...              15,026   \n\n    No. of students per staff International Students Female:Male Ratio  \\\n0                         9.6                    25%           50 : 50   \n1                         7.1                    24%           46 : 54   \n2                        11.3                    39%           47 : 53   \n3                         8.0                    23%           46 : 54   \n4                        10.6                    42%           48 : 52   \n..                        ...                    ...               ...   \n330                      29.2                     5%           62 : 38   \n331                      12.6                    11%           61 : 39   \n332                      14.1                     6%           35 : 65   \n333                      17.4                    13%           60 : 40   \n334                      14.4                    15%           52 : 48   \n\n       Overall Teaching Research Environment Research Quality Industry  \\\n0         95.2     94.8                 99.0             99.3     49.5   \n1         94.8     94.2                 96.7             99.8     65.0   \n2         94.8     90.9                 99.5             97.0     54.2   \n3         92.4     87.6                 95.9             99.1     66.0   \n4         96.4     92.3                 99.7             99.0     74.9   \n..         ...      ...                  ...              ...      ...   \n330  47.0–48.7     24.9                 25.9             93.6     40.8   \n331  42.1–44.9     21.9                 29.6             78.4     38.5   \n332  39.3–42.0     36.4                 42.7             47.1     75.0   \n333  47.0–48.7     40.5                 24.9             72.3     41.5   \n334  48.9–51.1     23.5                 39.8             78.0     61.8   \n\n    International Outlook  \n0                    80.5  \n1                    79.8  \n2                    95.8  \n3                    80.3  \n4                    96.2  \n..                    ...  \n330                  43.0  \n331                  64.5  \n332                  29.4  \n333                  63.2  \n334                  70.8  \n\n[335 rows x 47 columns]",
      "text/html": "<div>\n<style scoped>\n    .dataframe tbody tr th:only-of-type {\n        vertical-align: middle;\n    }\n\n    .dataframe tbody tr th {\n        vertical-align: top;\n    }\n\n    .dataframe thead th {\n        text-align: right;\n    }\n</style>\n<table border=\"1\" class=\"dataframe\">\n  <thead>\n    <tr style=\"text-align: right;\">\n      <th></th>\n      <th>RankShangHai</th>\n      <th>Name</th>\n      <th>Region</th>\n      <th>Regional rank</th>\n      <th>Total score</th>\n      <th>Alumni</th>\n      <th>Award</th>\n      <th>Hici</th>\n      <th>N&amp;S</th>\n      <th>PUB</th>\n      <th>...</th>\n      <th>No. of FTE students</th>\n      <th>No. of students per staff</th>\n      <th>International Students</th>\n      <th>Female:Male Ratio</th>\n      <th>Overall</th>\n      <th>Teaching</th>\n      <th>Research Environment</th>\n      <th>Research Quality</th>\n      <th>Industry</th>\n      <th>International Outlook</th>\n    </tr>\n  </thead>\n  <tbody>\n    <tr>\n      <th>0</th>\n      <td>1</td>\n      <td>Harvard University</td>\n      <td>us</td>\n      <td>1</td>\n      <td>100.0</td>\n      <td>100.0</td>\n      <td>92.6</td>\n      <td>100.0</td>\n      <td>100.0</td>\n      <td>100.0</td>\n      <td>...</td>\n      <td>21,887</td>\n      <td>9.6</td>\n      <td>25%</td>\n      <td>50 : 50</td>\n      <td>95.2</td>\n      <td>94.8</td>\n      <td>99.0</td>\n      <td>99.3</td>\n      <td>49.5</td>\n      <td>80.5</td>\n    </tr>\n    <tr>\n      <th>1</th>\n      <td>2</td>\n      <td>Stanford University</td>\n      <td>us</td>\n      <td>2</td>\n      <td>74.8</td>\n      <td>45.6</td>\n      <td>88.1</td>\n      <td>73.6</td>\n      <td>82.8</td>\n      <td>67.5</td>\n      <td>...</td>\n      <td>16,164</td>\n      <td>7.1</td>\n      <td>24%</td>\n      <td>46 : 54</td>\n      <td>94.8</td>\n      <td>94.2</td>\n      <td>96.7</td>\n      <td>99.8</td>\n      <td>65.0</td>\n      <td>79.8</td>\n    </tr>\n    <tr>\n      <th>2</th>\n      <td>4</td>\n      <td>University of Cambridge</td>\n      <td>gb</td>\n      <td>1</td>\n      <td>67.9</td>\n      <td>78.9</td>\n      <td>90.8</td>\n      <td>45.1</td>\n      <td>61.0</td>\n      <td>63.6</td>\n      <td>...</td>\n      <td>20,185</td>\n      <td>11.3</td>\n      <td>39%</td>\n      <td>47 : 53</td>\n      <td>94.8</td>\n      <td>90.9</td>\n      <td>99.5</td>\n      <td>97.0</td>\n      <td>54.2</td>\n      <td>95.8</td>\n    </tr>\n    <tr>\n      <th>3</th>\n      <td>6</td>\n      <td>Princeton University</td>\n      <td>us</td>\n      <td>5</td>\n      <td>60.1</td>\n      <td>61.7</td>\n      <td>100.0</td>\n      <td>32.9</td>\n      <td>50.4</td>\n      <td>39.4</td>\n      <td>...</td>\n      <td>8,279</td>\n      <td>8.0</td>\n      <td>23%</td>\n      <td>46 : 54</td>\n      <td>92.4</td>\n      <td>87.6</td>\n      <td>95.9</td>\n      <td>99.1</td>\n      <td>66.0</td>\n      <td>80.3</td>\n    </tr>\n    <tr>\n      <th>4</th>\n      <td>7</td>\n      <td>University of Oxford</td>\n      <td>gb</td>\n      <td>2</td>\n      <td>59.5</td>\n      <td>49.9</td>\n      <td>59.7</td>\n      <td>51.4</td>\n      <td>57.6</td>\n      <td>71.4</td>\n      <td>...</td>\n      <td>20,965</td>\n      <td>10.6</td>\n      <td>42%</td>\n      <td>48 : 52</td>\n      <td>96.4</td>\n      <td>92.3</td>\n      <td>99.7</td>\n      <td>99.0</td>\n      <td>74.9</td>\n      <td>96.2</td>\n    </tr>\n    <tr>\n      <th>...</th>\n      <td>...</td>\n      <td>...</td>\n      <td>...</td>\n      <td>...</td>\n      <td>...</td>\n      <td>...</td>\n      <td>...</td>\n      <td>...</td>\n      <td>...</td>\n      <td>...</td>\n      <td>...</td>\n      <td>...</td>\n      <td>...</td>\n      <td>...</td>\n      <td>...</td>\n      <td>...</td>\n      <td>...</td>\n      <td>...</td>\n      <td>...</td>\n      <td>...</td>\n      <td>...</td>\n    </tr>\n    <tr>\n      <th>330</th>\n      <td>301-400</td>\n      <td>University of Milano-Bicocca</td>\n      <td>it</td>\n      <td>9-10</td>\n      <td>NaN</td>\n      <td>23.1</td>\n      <td>0.0</td>\n      <td>11.4</td>\n      <td>7.2</td>\n      <td>34.2</td>\n      <td>...</td>\n      <td>29,057</td>\n      <td>29.2</td>\n      <td>5%</td>\n      <td>62 : 38</td>\n      <td>47.0–48.7</td>\n      <td>24.9</td>\n      <td>25.9</td>\n      <td>93.6</td>\n      <td>40.8</td>\n      <td>43.0</td>\n    </tr>\n    <tr>\n      <th>331</th>\n      <td>601-700</td>\n      <td>Umea University</td>\n      <td>se</td>\n      <td>11</td>\n      <td>NaN</td>\n      <td>15.5</td>\n      <td>0.0</td>\n      <td>0.0</td>\n      <td>9.7</td>\n      <td>29.1</td>\n      <td>...</td>\n      <td>18,218</td>\n      <td>12.6</td>\n      <td>11%</td>\n      <td>61 : 39</td>\n      <td>42.1–44.9</td>\n      <td>21.9</td>\n      <td>29.6</td>\n      <td>78.4</td>\n      <td>38.5</td>\n      <td>64.5</td>\n    </tr>\n    <tr>\n      <th>332</th>\n      <td>101-150</td>\n      <td>Xi'an Jiaotong University</td>\n      <td>cn</td>\n      <td>11-23</td>\n      <td>NaN</td>\n      <td>20.3</td>\n      <td>0.0</td>\n      <td>18.6</td>\n      <td>16.4</td>\n      <td>70.6</td>\n      <td>...</td>\n      <td>44,942</td>\n      <td>14.1</td>\n      <td>6%</td>\n      <td>35 : 65</td>\n      <td>39.3–42.0</td>\n      <td>36.4</td>\n      <td>42.7</td>\n      <td>47.1</td>\n      <td>75.0</td>\n      <td>29.4</td>\n    </tr>\n    <tr>\n      <th>333</th>\n      <td>151-200</td>\n      <td>Aix Marseille University</td>\n      <td>fr</td>\n      <td>6-8</td>\n      <td>NaN</td>\n      <td>19.0</td>\n      <td>0.0</td>\n      <td>18.6</td>\n      <td>21.5</td>\n      <td>48.1</td>\n      <td>...</td>\n      <td>70,054</td>\n      <td>17.4</td>\n      <td>13%</td>\n      <td>60 : 40</td>\n      <td>47.0–48.7</td>\n      <td>40.5</td>\n      <td>24.9</td>\n      <td>72.3</td>\n      <td>41.5</td>\n      <td>63.2</td>\n    </tr>\n    <tr>\n      <th>334</th>\n      <td>301-400</td>\n      <td>Linkoping University</td>\n      <td>se</td>\n      <td>7-8</td>\n      <td>NaN</td>\n      <td>19.1</td>\n      <td>0.0</td>\n      <td>13.2</td>\n      <td>10.6</td>\n      <td>32.0</td>\n      <td>...</td>\n      <td>15,026</td>\n      <td>14.4</td>\n      <td>15%</td>\n      <td>52 : 48</td>\n      <td>48.9–51.1</td>\n      <td>23.5</td>\n      <td>39.8</td>\n      <td>78.0</td>\n      <td>61.8</td>\n      <td>70.8</td>\n    </tr>\n  </tbody>\n</table>\n<p>335 rows × 47 columns</p>\n</div>"
     },
     "execution_count": 6,
     "metadata": {},
     "output_type": "execute_result"
    }
   ],
   "source": [
    "merged_rank1 = merge(merged_rank,THE_ranking,0)\n",
    "merged_rank1 = clean(merged_rank1)\n",
    "merged_rank2 = merge(merged_rank,THE_ranking,1)\n",
    "merged_rank2 = clean(merged_rank2)\n",
    "merged_rank = pd.concat([merged_rank1,merged_rank2])\n",
    "merged_rank = merged_rank.reset_index(drop=True)\n",
    "merged_rank"
   ],
   "metadata": {
    "collapsed": false,
    "ExecuteTime": {
     "end_time": "2023-11-28T11:25:17.484568600Z",
     "start_time": "2023-11-28T11:25:16.612416700Z"
    }
   },
   "id": "20d98e2bff672afb"
  },
  {
   "cell_type": "code",
   "execution_count": 7,
   "outputs": [
    {
     "data": {
      "text/plain": "                             Name RankShangHai   RankQS  RankTHE\n0              Harvard University            1        5        2\n1             Stanford University            2        3       =3\n2         University of Cambridge            4        2       =3\n3            Princeton University            6      16=        7\n4            University of Oxford            7        4        1\n..                            ...          ...      ...      ...\n330  University of Milano-Bicocca      301-400  601-650  301-350\n331               Umea University      601-700     369=  401-500\n332     Xi'an Jiaotong University      101-150      302  501-600\n333      Aix Marseille University      151-200     490=  301-350\n334          Linkoping University      301-400     320=  251-300\n\n[335 rows x 4 columns]",
      "text/html": "<div>\n<style scoped>\n    .dataframe tbody tr th:only-of-type {\n        vertical-align: middle;\n    }\n\n    .dataframe tbody tr th {\n        vertical-align: top;\n    }\n\n    .dataframe thead th {\n        text-align: right;\n    }\n</style>\n<table border=\"1\" class=\"dataframe\">\n  <thead>\n    <tr style=\"text-align: right;\">\n      <th></th>\n      <th>Name</th>\n      <th>RankShangHai</th>\n      <th>RankQS</th>\n      <th>RankTHE</th>\n    </tr>\n  </thead>\n  <tbody>\n    <tr>\n      <th>0</th>\n      <td>Harvard University</td>\n      <td>1</td>\n      <td>5</td>\n      <td>2</td>\n    </tr>\n    <tr>\n      <th>1</th>\n      <td>Stanford University</td>\n      <td>2</td>\n      <td>3</td>\n      <td>=3</td>\n    </tr>\n    <tr>\n      <th>2</th>\n      <td>University of Cambridge</td>\n      <td>4</td>\n      <td>2</td>\n      <td>=3</td>\n    </tr>\n    <tr>\n      <th>3</th>\n      <td>Princeton University</td>\n      <td>6</td>\n      <td>16=</td>\n      <td>7</td>\n    </tr>\n    <tr>\n      <th>4</th>\n      <td>University of Oxford</td>\n      <td>7</td>\n      <td>4</td>\n      <td>1</td>\n    </tr>\n    <tr>\n      <th>...</th>\n      <td>...</td>\n      <td>...</td>\n      <td>...</td>\n      <td>...</td>\n    </tr>\n    <tr>\n      <th>330</th>\n      <td>University of Milano-Bicocca</td>\n      <td>301-400</td>\n      <td>601-650</td>\n      <td>301-350</td>\n    </tr>\n    <tr>\n      <th>331</th>\n      <td>Umea University</td>\n      <td>601-700</td>\n      <td>369=</td>\n      <td>401-500</td>\n    </tr>\n    <tr>\n      <th>332</th>\n      <td>Xi'an Jiaotong University</td>\n      <td>101-150</td>\n      <td>302</td>\n      <td>501-600</td>\n    </tr>\n    <tr>\n      <th>333</th>\n      <td>Aix Marseille University</td>\n      <td>151-200</td>\n      <td>490=</td>\n      <td>301-350</td>\n    </tr>\n    <tr>\n      <th>334</th>\n      <td>Linkoping University</td>\n      <td>301-400</td>\n      <td>320=</td>\n      <td>251-300</td>\n    </tr>\n  </tbody>\n</table>\n<p>335 rows × 4 columns</p>\n</div>"
     },
     "execution_count": 7,
     "metadata": {},
     "output_type": "execute_result"
    }
   ],
   "source": [
    "sample_rank = merged_rank.loc[:,['Name','RankShangHai','RankQS','RankTHE']]\n",
    "sample_rank"
   ],
   "metadata": {
    "collapsed": false,
    "ExecuteTime": {
     "end_time": "2023-11-28T11:25:17.494800900Z",
     "start_time": "2023-11-28T11:25:17.483568300Z"
    }
   },
   "id": "5497ae3a29bf0d3a"
  },
  {
   "cell_type": "code",
   "execution_count": 8,
   "outputs": [
    {
     "data": {
      "text/plain": "                             Name  RankShangHai  RankQS  RankTHE\n0              Harvard University             1       5        2\n1             Stanford University             2       3        3\n2         University of Cambridge             4       2        3\n3            Princeton University             6      16        7\n4            University of Oxford             7       4        1\n..                            ...           ...     ...      ...\n330  University of Milano-Bicocca           350     625      325\n331               Umea University           650     369      450\n332     Xi'an Jiaotong University           125     302      550\n333      Aix Marseille University           175     490      325\n334          Linkoping University           350     320      275\n\n[335 rows x 4 columns]",
      "text/html": "<div>\n<style scoped>\n    .dataframe tbody tr th:only-of-type {\n        vertical-align: middle;\n    }\n\n    .dataframe tbody tr th {\n        vertical-align: top;\n    }\n\n    .dataframe thead th {\n        text-align: right;\n    }\n</style>\n<table border=\"1\" class=\"dataframe\">\n  <thead>\n    <tr style=\"text-align: right;\">\n      <th></th>\n      <th>Name</th>\n      <th>RankShangHai</th>\n      <th>RankQS</th>\n      <th>RankTHE</th>\n    </tr>\n  </thead>\n  <tbody>\n    <tr>\n      <th>0</th>\n      <td>Harvard University</td>\n      <td>1</td>\n      <td>5</td>\n      <td>2</td>\n    </tr>\n    <tr>\n      <th>1</th>\n      <td>Stanford University</td>\n      <td>2</td>\n      <td>3</td>\n      <td>3</td>\n    </tr>\n    <tr>\n      <th>2</th>\n      <td>University of Cambridge</td>\n      <td>4</td>\n      <td>2</td>\n      <td>3</td>\n    </tr>\n    <tr>\n      <th>3</th>\n      <td>Princeton University</td>\n      <td>6</td>\n      <td>16</td>\n      <td>7</td>\n    </tr>\n    <tr>\n      <th>4</th>\n      <td>University of Oxford</td>\n      <td>7</td>\n      <td>4</td>\n      <td>1</td>\n    </tr>\n    <tr>\n      <th>...</th>\n      <td>...</td>\n      <td>...</td>\n      <td>...</td>\n      <td>...</td>\n    </tr>\n    <tr>\n      <th>330</th>\n      <td>University of Milano-Bicocca</td>\n      <td>350</td>\n      <td>625</td>\n      <td>325</td>\n    </tr>\n    <tr>\n      <th>331</th>\n      <td>Umea University</td>\n      <td>650</td>\n      <td>369</td>\n      <td>450</td>\n    </tr>\n    <tr>\n      <th>332</th>\n      <td>Xi'an Jiaotong University</td>\n      <td>125</td>\n      <td>302</td>\n      <td>550</td>\n    </tr>\n    <tr>\n      <th>333</th>\n      <td>Aix Marseille University</td>\n      <td>175</td>\n      <td>490</td>\n      <td>325</td>\n    </tr>\n    <tr>\n      <th>334</th>\n      <td>Linkoping University</td>\n      <td>350</td>\n      <td>320</td>\n      <td>275</td>\n    </tr>\n  </tbody>\n</table>\n<p>335 rows × 4 columns</p>\n</div>"
     },
     "execution_count": 8,
     "metadata": {},
     "output_type": "execute_result"
    }
   ],
   "source": [
    "sample_rank = merged_rank.loc[:,['Name','RankShangHai','RankQS','RankTHE']]\n",
    "\n",
    "def level(rank,rankname):\n",
    "    for index, item in enumerate(rank[rankname]):\n",
    "        item=str(item)\n",
    "        if '=' in item:\n",
    "            rank.at[index, rankname] = item.replace('=','')\n",
    "        if '+' in item:\n",
    "            rank.at[index, rankname] = item.replace('+','')\n",
    "        if '-' in item:\n",
    "            numbers = item.split('-')\n",
    "            num1, num2 = map(int, numbers)\n",
    "            # print(numbers)\n",
    "            avg = str(int((num1+num2)/2))\n",
    "            rank.at[index, rankname] = avg\n",
    "    rank = rank.reset_index(drop=True)\n",
    "    return rank\n",
    "sample_rank = level(sample_rank,'RankQS')\n",
    "sample_rank = level(sample_rank,'RankTHE')\n",
    "sample_rank = level(sample_rank,'RankShangHai')\n",
    "sample_rank.RankQS = sample_rank.RankQS.astype(int)\n",
    "sample_rank.RankTHE = sample_rank.RankTHE.astype(int)\n",
    "sample_rank.RankShangHai = sample_rank.RankShangHai.astype(int)\n",
    "sample_rank"
   ],
   "metadata": {
    "collapsed": false,
    "ExecuteTime": {
     "end_time": "2023-11-28T11:25:17.519804600Z",
     "start_time": "2023-11-28T11:25:17.491800700Z"
    }
   },
   "id": "a51d74a0cb68d5cc"
  },
  {
   "cell_type": "code",
   "execution_count": 9,
   "outputs": [
    {
     "data": {
      "text/plain": "                              RankShangHai  RankQS  RankTHE  RankMJ\nName                                                               \nHarvard University                       1       5        2       1\nStanford University                      2       3        3       2\nUniversity of Cambridge                  4       2        3       3\nPrinceton University                     6      16        7       5\nUniversity of Oxford                     7       4        1       4\n...                                    ...     ...      ...     ...\nUniversity of Milano-Bicocca           350     625      325     185\nUmea University                        650     369      450     226\nXi'an Jiaotong University              125     302      550     154\nAix Marseille University               175     490      325     167\nLinkoping University                   350     320      275     161\n\n[335 rows x 4 columns]",
      "text/html": "<div>\n<style scoped>\n    .dataframe tbody tr th:only-of-type {\n        vertical-align: middle;\n    }\n\n    .dataframe tbody tr th {\n        vertical-align: top;\n    }\n\n    .dataframe thead th {\n        text-align: right;\n    }\n</style>\n<table border=\"1\" class=\"dataframe\">\n  <thead>\n    <tr style=\"text-align: right;\">\n      <th></th>\n      <th>RankShangHai</th>\n      <th>RankQS</th>\n      <th>RankTHE</th>\n      <th>RankMJ</th>\n    </tr>\n    <tr>\n      <th>Name</th>\n      <th></th>\n      <th></th>\n      <th></th>\n      <th></th>\n    </tr>\n  </thead>\n  <tbody>\n    <tr>\n      <th>Harvard University</th>\n      <td>1</td>\n      <td>5</td>\n      <td>2</td>\n      <td>1</td>\n    </tr>\n    <tr>\n      <th>Stanford University</th>\n      <td>2</td>\n      <td>3</td>\n      <td>3</td>\n      <td>2</td>\n    </tr>\n    <tr>\n      <th>University of Cambridge</th>\n      <td>4</td>\n      <td>2</td>\n      <td>3</td>\n      <td>3</td>\n    </tr>\n    <tr>\n      <th>Princeton University</th>\n      <td>6</td>\n      <td>16</td>\n      <td>7</td>\n      <td>5</td>\n    </tr>\n    <tr>\n      <th>University of Oxford</th>\n      <td>7</td>\n      <td>4</td>\n      <td>1</td>\n      <td>4</td>\n    </tr>\n    <tr>\n      <th>...</th>\n      <td>...</td>\n      <td>...</td>\n      <td>...</td>\n      <td>...</td>\n    </tr>\n    <tr>\n      <th>University of Milano-Bicocca</th>\n      <td>350</td>\n      <td>625</td>\n      <td>325</td>\n      <td>185</td>\n    </tr>\n    <tr>\n      <th>Umea University</th>\n      <td>650</td>\n      <td>369</td>\n      <td>450</td>\n      <td>226</td>\n    </tr>\n    <tr>\n      <th>Xi'an Jiaotong University</th>\n      <td>125</td>\n      <td>302</td>\n      <td>550</td>\n      <td>154</td>\n    </tr>\n    <tr>\n      <th>Aix Marseille University</th>\n      <td>175</td>\n      <td>490</td>\n      <td>325</td>\n      <td>167</td>\n    </tr>\n    <tr>\n      <th>Linkoping University</th>\n      <td>350</td>\n      <td>320</td>\n      <td>275</td>\n      <td>161</td>\n    </tr>\n  </tbody>\n</table>\n<p>335 rows × 4 columns</p>\n</div>"
     },
     "execution_count": 9,
     "metadata": {},
     "output_type": "execute_result"
    }
   ],
   "source": [
    "def MJ(rank):\n",
    "    rank_number = rank.shape[1] - 1\n",
    "    rank = rank.set_index('Name')\n",
    "    rank['MedianRank'] = rank.median(axis=1)\n",
    "    rank['RankMJ'] = 0\n",
    "    rank['Temp'] = 0.0\n",
    "    unique_medians = rank['MedianRank'].unique()\n",
    "    sorted_medians = sorted(unique_medians)\n",
    "    \n",
    "    rankMJ = 1  # 初始化排名\n",
    "    # 对每个中位数分组内的学校进行排序\n",
    "    for median in sorted_medians:\n",
    "        # 找出所有中位数排名相同的学校\n",
    "        tied_df = rank[rank['MedianRank'] == median]\n",
    "        \n",
    "        # 如果只有一个学校，则直接分配当前排名\n",
    "        if len(tied_df) == 1:\n",
    "            rank.loc[tied_df.index, 'RankMJ'] = rankMJ\n",
    "            rankMJ += 1\n",
    "        else:\n",
    "            # 如果有多个学校并列，根据其他排名的中位数来分配先后顺序\n",
    "            for i in range(len(tied_df)):\n",
    "                t = []\n",
    "                label = False\n",
    "                for j in range(rank_number):\n",
    "                    if tied_df.iloc[[i],[j]].values == tied_df.iloc[[i],[rank_number]].values and label == False:\n",
    "                        label = True\n",
    "                    else:\n",
    "                        t.append(tied_df.iloc[[i],[j]].values)\n",
    "                tied_df.iloc[[i],[rank_number+2]] = np.median(t)\n",
    "            # 根据平均排名对并列的学校进行排序\n",
    "            tied_df = tied_df.sort_values(by='Temp')\n",
    "            aaa = tied_df['Temp'].value_counts()\n",
    "            # 分配排名\n",
    "            cal=0\n",
    "            for idx in tied_df.index:\n",
    "                rank.loc[idx, 'NewMedianRank'] = tied_df.loc[idx,'Temp']\n",
    "                rank.loc[idx, 'RankMJ'] = rankMJ\n",
    "                cal += 1\n",
    "                if tied_df.loc[idx,'Temp'] in aaa.index:\n",
    "                    if cal == aaa[tied_df.loc[idx,'Temp']]:\n",
    "                        rankMJ += aaa[tied_df.loc[idx,'Temp']]\n",
    "                        cal=0\n",
    "    rank = rank.drop('NewMedianRank', axis=1)\n",
    "    rank = rank.drop('MedianRank', axis=1)\n",
    "    return rank.drop('Temp', axis=1)\n",
    "\n",
    "RankMJ1 = MJ(sample_rank)\n",
    "RankMJ1"
   ],
   "metadata": {
    "collapsed": false,
    "ExecuteTime": {
     "end_time": "2023-11-28T11:25:17.851217700Z",
     "start_time": "2023-11-28T11:25:17.510803600Z"
    }
   },
   "id": "e702b59fbd2c69d9"
  },
  {
   "cell_type": "code",
   "execution_count": 10,
   "outputs": [
    {
     "data": {
      "text/plain": "Text(0.5, 1.0, 'Tau between different ranking')"
     },
     "execution_count": 10,
     "metadata": {},
     "output_type": "execute_result"
    },
    {
     "data": {
      "text/plain": "<Figure size 640x480 with 2 Axes>",
      "image/png": "[encoded data removed]"
     },
     "metadata": {},
     "output_type": "display_data"
    }
   ],
   "source": [
    "rank_name_list = ['RankMJ','RankShangHai','RankTHE','RankQS']\n",
    "sub_rank = RankMJ1.loc[:,rank_name_list]\n",
    "tau = np.zeros([sub_rank.shape[1],sub_rank.shape[1]])\n",
    "for i in range(sub_rank.shape[1]):\n",
    "    for j in range(sub_rank.shape[1]):\n",
    "        tau[i,j],_ = kendalltau(sub_rank.iloc[:,i],sub_rank.iloc[:,j])\n",
    "\n",
    "ax = sns.heatmap(tau,annot=True,xticklabels=rank_name_list,yticklabels=rank_name_list)\n",
    "ax.set_title('Tau between different ranking')"
   ],
   "metadata": {
    "collapsed": false,
    "ExecuteTime": {
     "end_time": "2023-11-28T11:25:18.047091700Z",
     "start_time": "2023-11-28T11:25:17.852217300Z"
    }
   },
   "id": "60ef335e24ea0ac2"
  },
  {
   "cell_type": "code",
   "execution_count": 11,
   "outputs": [
    {
     "data": {
      "text/plain": "                             Name Alumni   Hici    PUB   PCP\n0              Harvard University  100.0  100.0  100.0  86.7\n1             Stanford University   45.6   73.6   67.5  58.0\n2         University of Cambridge   78.9   45.1   63.6  60.4\n3            Princeton University   61.7   32.9   39.4  76.7\n4            University of Oxford   49.9   51.4   71.4  48.5\n..                            ...    ...    ...    ...   ...\n330  University of Milano-Bicocca   23.1   11.4   34.2  23.1\n331               Umea University   15.5    0.0   29.1  15.5\n332     Xi'an Jiaotong University   20.3   18.6   70.6  20.3\n333      Aix Marseille University   19.0   18.6   48.1  19.0\n334          Linkoping University   19.1   13.2   32.0  19.1\n\n[335 rows x 5 columns]",
      "text/html": "<div>\n<style scoped>\n    .dataframe tbody tr th:only-of-type {\n        vertical-align: middle;\n    }\n\n    .dataframe tbody tr th {\n        vertical-align: top;\n    }\n\n    .dataframe thead th {\n        text-align: right;\n    }\n</style>\n<table border=\"1\" class=\"dataframe\">\n  <thead>\n    <tr style=\"text-align: right;\">\n      <th></th>\n      <th>Name</th>\n      <th>Alumni</th>\n      <th>Hici</th>\n      <th>PUB</th>\n      <th>PCP</th>\n    </tr>\n  </thead>\n  <tbody>\n    <tr>\n      <th>0</th>\n      <td>Harvard University</td>\n      <td>100.0</td>\n      <td>100.0</td>\n      <td>100.0</td>\n      <td>86.7</td>\n    </tr>\n    <tr>\n      <th>1</th>\n      <td>Stanford University</td>\n      <td>45.6</td>\n      <td>73.6</td>\n      <td>67.5</td>\n      <td>58.0</td>\n    </tr>\n    <tr>\n      <th>2</th>\n      <td>University of Cambridge</td>\n      <td>78.9</td>\n      <td>45.1</td>\n      <td>63.6</td>\n      <td>60.4</td>\n    </tr>\n    <tr>\n      <th>3</th>\n      <td>Princeton University</td>\n      <td>61.7</td>\n      <td>32.9</td>\n      <td>39.4</td>\n      <td>76.7</td>\n    </tr>\n    <tr>\n      <th>4</th>\n      <td>University of Oxford</td>\n      <td>49.9</td>\n      <td>51.4</td>\n      <td>71.4</td>\n      <td>48.5</td>\n    </tr>\n    <tr>\n      <th>...</th>\n      <td>...</td>\n      <td>...</td>\n      <td>...</td>\n      <td>...</td>\n      <td>...</td>\n    </tr>\n    <tr>\n      <th>330</th>\n      <td>University of Milano-Bicocca</td>\n      <td>23.1</td>\n      <td>11.4</td>\n      <td>34.2</td>\n      <td>23.1</td>\n    </tr>\n    <tr>\n      <th>331</th>\n      <td>Umea University</td>\n      <td>15.5</td>\n      <td>0.0</td>\n      <td>29.1</td>\n      <td>15.5</td>\n    </tr>\n    <tr>\n      <th>332</th>\n      <td>Xi'an Jiaotong University</td>\n      <td>20.3</td>\n      <td>18.6</td>\n      <td>70.6</td>\n      <td>20.3</td>\n    </tr>\n    <tr>\n      <th>333</th>\n      <td>Aix Marseille University</td>\n      <td>19.0</td>\n      <td>18.6</td>\n      <td>48.1</td>\n      <td>19.0</td>\n    </tr>\n    <tr>\n      <th>334</th>\n      <td>Linkoping University</td>\n      <td>19.1</td>\n      <td>13.2</td>\n      <td>32.0</td>\n      <td>19.1</td>\n    </tr>\n  </tbody>\n</table>\n<p>335 rows × 5 columns</p>\n</div>"
     },
     "execution_count": 11,
     "metadata": {},
     "output_type": "execute_result"
    }
   ],
   "source": [
    "sample_rank2 = merged_rank.loc[:, ['Name','Alumni','Hici','PUB','PCP']]\n",
    "sample_rank2"
   ],
   "metadata": {
    "collapsed": false,
    "ExecuteTime": {
     "end_time": "2023-11-28T11:25:18.055906200Z",
     "start_time": "2023-11-28T11:25:18.048091900Z"
    }
   },
   "id": "8f75a49aa3f896cd"
  },
  {
   "cell_type": "code",
   "execution_count": 12,
   "outputs": [
    {
     "data": {
      "text/plain": "                             Name  RankAlumni  RankHici  RankPUB  RankPCP\n0              Harvard University           1         1        1        1\n1             Stanford University           7         2       16        4\n2         University of Cambridge           2        10       23        3\n3            Princeton University           3        30      128        2\n4            University of Oxford           6         5       12        5\n..                            ...         ...       ...      ...      ...\n330  University of Milano-Bicocca          96       186      177      103\n331               Umea University         261       317      245      265\n332     Xi'an Jiaotong University         153        98       13      158\n333      Aix Marseille University         178        98       72      183\n334          Linkoping University         177       161      207      182\n\n[335 rows x 5 columns]",
      "text/html": "<div>\n<style scoped>\n    .dataframe tbody tr th:only-of-type {\n        vertical-align: middle;\n    }\n\n    .dataframe tbody tr th {\n        vertical-align: top;\n    }\n\n    .dataframe thead th {\n        text-align: right;\n    }\n</style>\n<table border=\"1\" class=\"dataframe\">\n  <thead>\n    <tr style=\"text-align: right;\">\n      <th></th>\n      <th>Name</th>\n      <th>RankAlumni</th>\n      <th>RankHici</th>\n      <th>RankPUB</th>\n      <th>RankPCP</th>\n    </tr>\n  </thead>\n  <tbody>\n    <tr>\n      <th>0</th>\n      <td>Harvard University</td>\n      <td>1</td>\n      <td>1</td>\n      <td>1</td>\n      <td>1</td>\n    </tr>\n    <tr>\n      <th>1</th>\n      <td>Stanford University</td>\n      <td>7</td>\n      <td>2</td>\n      <td>16</td>\n      <td>4</td>\n    </tr>\n    <tr>\n      <th>2</th>\n      <td>University of Cambridge</td>\n      <td>2</td>\n      <td>10</td>\n      <td>23</td>\n      <td>3</td>\n    </tr>\n    <tr>\n      <th>3</th>\n      <td>Princeton University</td>\n      <td>3</td>\n      <td>30</td>\n      <td>128</td>\n      <td>2</td>\n    </tr>\n    <tr>\n      <th>4</th>\n      <td>University of Oxford</td>\n      <td>6</td>\n      <td>5</td>\n      <td>12</td>\n      <td>5</td>\n    </tr>\n    <tr>\n      <th>...</th>\n      <td>...</td>\n      <td>...</td>\n      <td>...</td>\n      <td>...</td>\n      <td>...</td>\n    </tr>\n    <tr>\n      <th>330</th>\n      <td>University of Milano-Bicocca</td>\n      <td>96</td>\n      <td>186</td>\n      <td>177</td>\n      <td>103</td>\n    </tr>\n    <tr>\n      <th>331</th>\n      <td>Umea University</td>\n      <td>261</td>\n      <td>317</td>\n      <td>245</td>\n      <td>265</td>\n    </tr>\n    <tr>\n      <th>332</th>\n      <td>Xi'an Jiaotong University</td>\n      <td>153</td>\n      <td>98</td>\n      <td>13</td>\n      <td>158</td>\n    </tr>\n    <tr>\n      <th>333</th>\n      <td>Aix Marseille University</td>\n      <td>178</td>\n      <td>98</td>\n      <td>72</td>\n      <td>183</td>\n    </tr>\n    <tr>\n      <th>334</th>\n      <td>Linkoping University</td>\n      <td>177</td>\n      <td>161</td>\n      <td>207</td>\n      <td>182</td>\n    </tr>\n  </tbody>\n</table>\n<p>335 rows × 5 columns</p>\n</div>"
     },
     "execution_count": 12,
     "metadata": {},
     "output_type": "execute_result"
    }
   ],
   "source": [
    "sample_rank2 = merged_rank.loc[:, ['Name','Alumni','Hici','PUB','PCP']]\n",
    "sample_rank2['RankAlumni'] = sample_rank2.Alumni.rank(method='average',ascending=False).astype(int)\n",
    "sample_rank2 = sample_rank2.drop('Alumni',axis=1) \n",
    "sample_rank2['RankHici'] = sample_rank2.Hici.rank(method='average',ascending=False).astype(int)\n",
    "sample_rank2 = sample_rank2.drop('Hici',axis=1) \n",
    "sample_rank2['RankPUB'] = sample_rank2.PUB.rank(method='average',ascending=False).astype(int)\n",
    "sample_rank2 = sample_rank2.drop('PUB',axis=1) \n",
    "sample_rank2['RankPCP'] = sample_rank2.PCP.rank(method='average',ascending=False).astype(int)\n",
    "sample_rank2 = sample_rank2.drop('PCP',axis=1) \n",
    "sample_rank2"
   ],
   "metadata": {
    "collapsed": false,
    "ExecuteTime": {
     "end_time": "2023-11-28T11:25:18.113645600Z",
     "start_time": "2023-11-28T11:25:18.063904500Z"
    }
   },
   "id": "31cdbd1acf6971d9"
  },
  {
   "cell_type": "code",
   "execution_count": 13,
   "outputs": [
    {
     "data": {
      "text/plain": "                              RankAlumni  RankHici  RankPUB  RankPCP  RankMJ\nName                                                                        \nHarvard University                     1         1        1        1       1\nStanford University                    7         2       16        4       2\nUniversity of Cambridge                2        10       23        3       4\nPrinceton University                   3        30      128        2      11\nUniversity of Oxford                   6         5       12        5       2\n...                                  ...       ...      ...      ...     ...\nUniversity of Milano-Bicocca          96       186      177      103     138\nUmea University                      261       317      245      265     277\nXi'an Jiaotong University            153        98       13      158     124\nAix Marseille University             178        98       72      183     135\nLinkoping University                 177       161      207      182     179\n\n[335 rows x 5 columns]",
      "text/html": "<div>\n<style scoped>\n    .dataframe tbody tr th:only-of-type {\n        vertical-align: middle;\n    }\n\n    .dataframe tbody tr th {\n        vertical-align: top;\n    }\n\n    .dataframe thead th {\n        text-align: right;\n    }\n</style>\n<table border=\"1\" class=\"dataframe\">\n  <thead>\n    <tr style=\"text-align: right;\">\n      <th></th>\n      <th>RankAlumni</th>\n      <th>RankHici</th>\n      <th>RankPUB</th>\n      <th>RankPCP</th>\n      <th>RankMJ</th>\n    </tr>\n    <tr>\n      <th>Name</th>\n      <th></th>\n      <th></th>\n      <th></th>\n      <th></th>\n      <th></th>\n    </tr>\n  </thead>\n  <tbody>\n    <tr>\n      <th>Harvard University</th>\n      <td>1</td>\n      <td>1</td>\n      <td>1</td>\n      <td>1</td>\n      <td>1</td>\n    </tr>\n    <tr>\n      <th>Stanford University</th>\n      <td>7</td>\n      <td>2</td>\n      <td>16</td>\n      <td>4</td>\n      <td>2</td>\n    </tr>\n    <tr>\n      <th>University of Cambridge</th>\n      <td>2</td>\n      <td>10</td>\n      <td>23</td>\n      <td>3</td>\n      <td>4</td>\n    </tr>\n    <tr>\n      <th>Princeton University</th>\n      <td>3</td>\n      <td>30</td>\n      <td>128</td>\n      <td>2</td>\n      <td>11</td>\n    </tr>\n    <tr>\n      <th>University of Oxford</th>\n      <td>6</td>\n      <td>5</td>\n      <td>12</td>\n      <td>5</td>\n      <td>2</td>\n    </tr>\n    <tr>\n      <th>...</th>\n      <td>...</td>\n      <td>...</td>\n      <td>...</td>\n      <td>...</td>\n      <td>...</td>\n    </tr>\n    <tr>\n      <th>University of Milano-Bicocca</th>\n      <td>96</td>\n      <td>186</td>\n      <td>177</td>\n      <td>103</td>\n      <td>138</td>\n    </tr>\n    <tr>\n      <th>Umea University</th>\n      <td>261</td>\n      <td>317</td>\n      <td>245</td>\n      <td>265</td>\n      <td>277</td>\n    </tr>\n    <tr>\n      <th>Xi'an Jiaotong University</th>\n      <td>153</td>\n      <td>98</td>\n      <td>13</td>\n      <td>158</td>\n      <td>124</td>\n    </tr>\n    <tr>\n      <th>Aix Marseille University</th>\n      <td>178</td>\n      <td>98</td>\n      <td>72</td>\n      <td>183</td>\n      <td>135</td>\n    </tr>\n    <tr>\n      <th>Linkoping University</th>\n      <td>177</td>\n      <td>161</td>\n      <td>207</td>\n      <td>182</td>\n      <td>179</td>\n    </tr>\n  </tbody>\n</table>\n<p>335 rows × 5 columns</p>\n</div>"
     },
     "execution_count": 13,
     "metadata": {},
     "output_type": "execute_result"
    }
   ],
   "source": [
    "RankMJ2 = MJ(sample_rank2)\n",
    "RankMJ2"
   ],
   "metadata": {
    "collapsed": false,
    "ExecuteTime": {
     "end_time": "2023-11-28T11:25:18.458285100Z",
     "start_time": "2023-11-28T11:25:18.068646300Z"
    }
   },
   "id": "3e48a01e8efc1c44"
  },
  {
   "cell_type": "markdown",
   "source": [
    "KJ"
   ],
   "metadata": {
    "collapsed": false
   },
   "id": "22cf2858a5079c91"
  },
  {
   "cell_type": "code",
   "execution_count": 37,
   "outputs": [
    {
     "data": {
      "text/plain": "array([[3, 1, 1, ..., 0, 0, 0],\n       [2, 3, 2, ..., 0, 0, 0],\n       [2, 2, 3, ..., 0, 0, 0],\n       ...,\n       [3, 3, 3, ..., 3, 1, 1],\n       [3, 3, 3, ..., 2, 3, 2],\n       [3, 3, 3, ..., 2, 1, 3]])"
     },
     "execution_count": 37,
     "metadata": {},
     "output_type": "execute_result"
    }
   ],
   "source": [
    "from itertools import combinations, permutations, combinations_with_replacement\n",
    "# def build_graph(ranks):\n",
    "#     n_candidates, n_voters = ranks.shape\n",
    "#     edge_weights = np.full((n_candidates, n_candidates),0)\n",
    "#     for i, j in combinations(range(n_candidates), 2):\n",
    "#         preference = ranks.iloc[i,1:] - ranks.iloc[j,1:]\n",
    "#         # print(preference)\n",
    "#         h_ij = np.sum(preference[preference<0])\n",
    "#         h_ji = np.sum(preference[preference>0])\n",
    "#         edge_weights[i, j] = h_ij\n",
    "#         edge_weights[j, i] = -h_ji\n",
    "#     return edge_weights\n",
    "def build_graph(ranks):\n",
    "    n_candidates, n_voters = ranks.shape\n",
    "    edge_weights = np.full((n_candidates, n_candidates),3)\n",
    "    for i, j in combinations(range(n_candidates), 2):\n",
    "        preference = ranks.iloc[i,1:] - ranks.iloc[j,1:]\n",
    "        # print(preference)\n",
    "        h_ij = np.sum(preference<0)\n",
    "        h_ji = np.sum(preference>0)\n",
    "        edge_weights[i, j] -= h_ij\n",
    "        edge_weights[j, i] -= h_ji\n",
    "    return -np.min(edge_weights)+edge_weights\n",
    "distance = build_graph(sample_rank)\n",
    "distance"
   ],
   "metadata": {
    "collapsed": false,
    "ExecuteTime": {
     "end_time": "2023-11-28T11:55:06.528999500Z",
     "start_time": "2023-11-28T11:54:52.428284900Z"
    }
   },
   "id": "e31f618a629a448e"
  },
  {
   "cell_type": "code",
   "execution_count": 38,
   "outputs": [
    {
     "data": {
      "text/plain": "623"
     },
     "execution_count": 38,
     "metadata": {},
     "output_type": "execute_result"
    }
   ],
   "source": [
    "sum = 0\n",
    "for i in range(334):\n",
    "    sum += distance[i,i+1]\n",
    "sum"
   ],
   "metadata": {
    "collapsed": false,
    "ExecuteTime": {
     "end_time": "2023-11-28T11:55:17.004273400Z",
     "start_time": "2023-11-28T11:55:16.992219Z"
    }
   },
   "id": "67661dba09874b55"
  },
  {
   "cell_type": "code",
   "execution_count": 39,
   "outputs": [
    {
     "name": "stdout",
     "output_type": "stream",
     "text": [
      "总行程长度: 207 公里\n",
      "路径:\n",
      " 0 -> 12 -> 16 -> 38 -> 55 -> 77 -> 94 -> 148 -> 334 -> 277 -> 331 -> 223 -> 291 -> 243 -> 283 -> 14 -> 18 -> 86 -> 145 -> 181 -> 236 -> 280 -> 287 -> 32 -> 84 -> 110 -> 180 -> 213 -> 292 -> 257 -> 285 -> 295 -> 288 -> 333 -> 311 -> 276 -> 261 -> 300 -> 332 -> 284 -> 228 -> 263 -> 289 -> 113 -> 185 -> 211 -> 268 -> 238 -> 247 -> 177 -> 232 -> 273 -> 237 -> 260 -> 298 -> 156 -> 158 -> 88 -> 200 -> 240 -> 254 -> 290 -> 144 -> 179 -> 227 -> 252 -> 329 -> 206 -> 192 -> 242 -> 104 -> 132 -> 183 -> 218 -> 314 -> 190 -> 217 -> 316 -> 187 -> 215 -> 307 -> 197 -> 241 -> 296 -> 53 -> 160 -> 222 -> 255 -> 305 -> 120 -> 161 -> 204 -> 293 -> 172 -> 265 -> 297 -> 209 -> 85 -> 142 -> 196 -> 212 -> 134 -> 189 -> 221 -> 178 -> 226 -> 140 -> 182 -> 219 -> 249 -> 294 -> 176 -> 267 -> 92 -> 128 -> 169 -> 235 -> 112 -> 141 -> 202 -> 214 -> 149 -> 171 -> 152 -> 173 -> 208 -> 199 -> 205 -> 63 -> 151 -> 166 -> 210 -> 324 -> 282 -> 321 -> 4 -> 21 -> 24 -> 79 -> 244 -> 279 -> 165 -> 231 -> 275 -> 27 -> 76 -> 91 -> 124 -> 164 -> 207 -> 155 -> 159 -> 286 -> 114 -> 167 -> 75 -> 143 -> 259 -> 138 -> 246 -> 315 -> 98 -> 122 -> 193 -> 119 -> 96 -> 116 -> 186 -> 274 -> 146 -> 58 -> 130 -> 184 -> 39 -> 106 -> 121 -> 163 -> 64 -> 95 -> 245 -> 74 -> 136 -> 157 -> 266 -> 71 -> 253 -> 170 -> 109 -> 150 -> 201 -> 234 -> 73 -> 103 -> 133 -> 229 -> 70 -> 230 -> 258 -> 49 -> 65 -> 90 -> 126 -> 195 -> 69 -> 123 -> 66 -> 111 -> 125 -> 101 -> 115 -> 162 -> 270 -> 308 -> 262 -> 301 -> 50 -> 97 -> 118 -> 299 -> 10 -> 327 -> 44 -> 46 -> 80 -> 188 -> 271 -> 233 -> 322 -> 59 -> 107 -> 175 -> 147 -> 68 -> 220 -> 48 -> 67 -> 99 -> 57 -> 62 -> 43 -> 51 -> 56 -> 61 -> 102 -> 45 -> 54 -> 26 -> 37 -> 40 -> 41 -> 36 -> 82 -> 108 -> 154 -> 264 -> 326 -> 319 -> 100 -> 137 -> 325 -> 304 -> 317 -> 1 -> 52 -> 168 -> 19 -> 34 -> 81 -> 127 -> 25 -> 224 -> 272 -> 309 -> 323 -> 11 -> 30 -> 33 -> 87 -> 117 -> 330 -> 281 -> 8 -> 9 -> 22 -> 42 -> 78 -> 129 -> 203 -> 250 -> 312 -> 318 -> 6 -> 7 -> 23 -> 29 -> 35 -> 139 -> 216 -> 251 -> 303 -> 320 -> 17 -> 328 -> 72 -> 89 -> 131 -> 191 -> 239 -> 269 -> 28 -> 31 -> 83 -> 135 -> 194 -> 225 -> 256 -> 302 -> 3 -> 5 -> 13 -> 20 -> 60 -> 105 -> 153 -> 174 -> 278 -> 310 -> 306 -> 2 -> 15 -> 47 -> 93 -> 198 -> 248 -> 313 -> 0\n"
     ]
    }
   ],
   "source": [
    "from ortools.constraint_solver import routing_enums_pb2\n",
    "from ortools.constraint_solver import pywrapcp\n",
    "\n",
    "def create_data_model(distance_matrix):\n",
    "    \"\"\"Stores the data for the problem.\"\"\"\n",
    "    data = {}\n",
    "    data['distance_matrix'] = distance_matrix\n",
    "    data['num_vehicles'] = 1\n",
    "    data['depot'] = 0\n",
    "    return data\n",
    "\n",
    "def print_solution(manager, routing, solution):\n",
    "    \"\"\"Prints solution on console.\"\"\"\n",
    "    print('总行程长度: {} 公里'.format(solution.ObjectiveValue()))\n",
    "    index = routing.Start(0)\n",
    "    plan_output = '路径:\\n'\n",
    "    route_distance = 0\n",
    "    while not routing.IsEnd(index):\n",
    "        plan_output += ' {} ->'.format(manager.IndexToNode(index))\n",
    "        previous_index = index\n",
    "        index = solution.Value(routing.NextVar(index))\n",
    "        route_distance += routing.GetArcCostForVehicle(previous_index, index, 0)\n",
    "    plan_output += ' {}\\n'.format(manager.IndexToNode(index))\n",
    "    print(plan_output)\n",
    "\n",
    "def main(distance_matrix):\n",
    "    # 初始化数据\n",
    "    data = create_data_model(distance_matrix)\n",
    "\n",
    "    # 创建路由索引管理器\n",
    "    manager = pywrapcp.RoutingIndexManager(len(data['distance_matrix']), \n",
    "                                           data['num_vehicles'], data['depot'])\n",
    "\n",
    "    # 创建 Routing Model.\n",
    "    routing = pywrapcp.RoutingModel(manager)\n",
    "\n",
    "    # 计算两点之间的距离\n",
    "    def distance_callback(from_index, to_index):\n",
    "        from_node = manager.IndexToNode(from_index)\n",
    "        to_node = manager.IndexToNode(to_index)\n",
    "        return data['distance_matrix'][from_node][to_node]\n",
    "\n",
    "    transit_callback_index = routing.RegisterTransitCallback(distance_callback)\n",
    "\n",
    "    # 定义成本的每一对点\n",
    "    routing.SetArcCostEvaluatorOfAllVehicles(transit_callback_index)\n",
    "\n",
    "    # 设置启发式搜索方法\n",
    "    search_parameters = pywrapcp.DefaultRoutingSearchParameters()\n",
    "    search_parameters.first_solution_strategy = (\n",
    "        routing_enums_pb2.FirstSolutionStrategy.PATH_CHEAPEST_ARC)\n",
    "\n",
    "    # 求解问题\n",
    "    solution = routing.SolveWithParameters(search_parameters)\n",
    "\n",
    "    # 输出结果\n",
    "    if solution:\n",
    "        print_solution(manager, routing, solution)\n",
    "\n",
    "\n",
    "# 运行主函数\n",
    "main(distance)\n"
   ],
   "metadata": {
    "collapsed": false,
    "ExecuteTime": {
     "end_time": "2023-11-28T11:55:21.943190100Z",
     "start_time": "2023-11-28T11:55:19.309852800Z"
    }
   },
   "id": "b5d9deaba8659a0a"
  },
  {
   "cell_type": "code",
   "execution_count": null,
   "outputs": [],
   "source": [],
   "metadata": {
    "collapsed": false
   },
   "id": "37cdf1544c9eb4c2"
  }
 ],
 "metadata": {
  "kernelspec": {
   "display_name": "Python 3",
   "language": "python",
   "name": "python3"
  },
  "language_info": {
   "codemirror_mode": {
    "name": "ipython",
    "version": 2
   },
   "file_extension": ".py",
   "mimetype": "text/x-python",
   "name": "python",
   "nbconvert_exporter": "python",
   "pygments_lexer": "ipython2",
   "version": "2.7.6"
  }
 },
 "nbformat": 4,
 "nbformat_minor": 5
}
